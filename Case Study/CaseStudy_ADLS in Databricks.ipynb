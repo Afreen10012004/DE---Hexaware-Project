{
 "cells": [
  {
   "cell_type": "markdown",
   "metadata": {
    "application/vnd.databricks.v1+cell": {
     "cellMetadata": {},
     "inputWidgets": {},
     "nuid": "9f752965-4905-4c60-b384-ce3cf10652e1",
     "showTitle": false,
     "tableResultSettingsMap": {},
     "title": ""
    }
   },
   "source": [
    "## **Reading CSV from ADLS Gen2 in Databricks using SAS**"
   ]
  },
  {
   "cell_type": "code",
   "execution_count": 0,
   "metadata": {
    "application/vnd.databricks.v1+cell": {
     "cellMetadata": {
      "byteLimit": 2048000,
      "rowLimit": 10000
     },
     "inputWidgets": {},
     "nuid": "5c58162c-eb08-485c-b971-6b664630e159",
     "showTitle": false,
     "tableResultSettingsMap": {},
     "title": ""
    }
   },
   "outputs": [
    {
     "output_type": "stream",
     "name": "stdout",
     "output_type": "stream",
     "text": [
      "+-----------+----------+---------+--------+------------+---------+--------+------+--------------+----------+-------------+\n|EMPLOYEE_ID|FIRST_NAME|LAST_NAME|   EMAIL|PHONE_NUMBER|HIRE_DATE|  JOB_ID|SALARY|COMMISSION_PCT|MANAGER_ID|DEPARTMENT_ID|\n+-----------+----------+---------+--------+------------+---------+--------+------+--------------+----------+-------------+\n|        198|    Donald| OConnell|DOCONNEL|650.507.9833|21-JUN-07|SH_CLERK|  2600|            - |       124|           50|\n|        199|   Douglas|    Grant|  DGRANT|650.507.9844|13-JAN-08|SH_CLERK|  2600|            - |       124|           50|\n|        200|  Jennifer|   Whalen| JWHALEN|515.123.4444|17-SEP-03| AD_ASST|  4400|            - |       101|           10|\n|        201|   Michael|Hartstein|MHARTSTE|515.123.5555|17-FEB-04|  MK_MAN| 13000|            - |       100|           20|\n|        202|       Pat|      Fay|    PFAY|603.123.6666|17-AUG-05|  MK_REP|  6000|            - |       201|           20|\n+-----------+----------+---------+--------+------------+---------+--------+------+--------------+----------+-------------+\nonly showing top 5 rows\n"
     ]
    }
   ],
   "source": [
    "# Storage details\n",
    "storage_account_name = \"storagenew23\"\n",
    "container_name = \"mysource\"\n",
    "sas_token = \"?sv=2024-11-04&ss=bt&srt=co&sp=rwdlacuiytfx&se=2025-09-18T12:50:19Z&st=2025-08-18T04:35:19Z&spr=https&sig=j5N2G3oz7YbX4HEm%2B%2FUcm%2BrpBGjlm5Y9R5rxio9YJsI%3D\"   \n",
    "\n",
    "file_name = \"employees.csv\"\n",
    "\n",
    "# Path must be in wasbs format without concatenating token directly\n",
    "file_path = f\"wasbs://{container_name}@{storage_account_name}.blob.core.windows.net/{file_name}\"\n",
    "\n",
    "# Set Spark config with SAS token\n",
    "spark.conf.set(f\"fs.azure.sas.{container_name}.{storage_account_name}.blob.core.windows.net\", sas_token)\n",
    "\n",
    "# Read the CSV\n",
    "df = (spark.read\n",
    "      .format(\"csv\")\n",
    "      .option(\"header\", \"true\")\n",
    "      .option(\"inferSchema\", \"true\")\n",
    "      .load(file_path))\n",
    "\n",
    "df.show(5)\n"
   ]
  },
  {
   "cell_type": "markdown",
   "metadata": {
    "application/vnd.databricks.v1+cell": {
     "cellMetadata": {},
     "inputWidgets": {},
     "nuid": "f29fa2a7-615e-4d32-8305-9a63c0e56424",
     "showTitle": false,
     "tableResultSettingsMap": {},
     "title": ""
    }
   },
   "source": [
    "## **Data Overview**"
   ]
  },
  {
   "cell_type": "code",
   "execution_count": 0,
   "metadata": {
    "application/vnd.databricks.v1+cell": {
     "cellMetadata": {
      "byteLimit": 2048000,
      "rowLimit": 10000
     },
     "inputWidgets": {},
     "nuid": "e1399d69-a0e6-417c-99df-bd109370c79b",
     "showTitle": false,
     "tableResultSettingsMap": {},
     "title": ""
    }
   },
   "outputs": [
    {
     "output_type": "stream",
     "name": "stdout",
     "output_type": "stream",
     "text": [
      "root\n |-- EMPLOYEE_ID: integer (nullable = true)\n |-- FIRST_NAME: string (nullable = true)\n |-- LAST_NAME: string (nullable = true)\n |-- EMAIL: string (nullable = true)\n |-- PHONE_NUMBER: string (nullable = true)\n |-- HIRE_DATE: string (nullable = true)\n |-- JOB_ID: string (nullable = true)\n |-- SALARY: integer (nullable = true)\n |-- COMMISSION_PCT: string (nullable = true)\n |-- MANAGER_ID: string (nullable = true)\n |-- DEPARTMENT_ID: integer (nullable = true)\n\n+-------+------------------+----------+---------+------+------------+---------+----------+-----------------+--------------+------------------+-----------------+\n|summary|       EMPLOYEE_ID|FIRST_NAME|LAST_NAME| EMAIL|PHONE_NUMBER|HIRE_DATE|    JOB_ID|           SALARY|COMMISSION_PCT|        MANAGER_ID|    DEPARTMENT_ID|\n+-------+------------------+----------+---------+------+------------+---------+----------+-----------------+--------------+------------------+-----------------+\n|  count|                50|        50|       50|    50|          50|       50|        50|               50|            50|                50|               50|\n|   mean|            134.76|      NULL|     NULL|  NULL|        NULL|     NULL|      NULL|          6182.32|          NULL|114.83673469387755|             57.6|\n| stddev|33.631593504213456|      NULL|     NULL|  NULL|        NULL|     NULL|      NULL|4586.181771631927|          NULL|20.591611296406914|25.11686968666962|\n|    min|               100|      Adam| Atkinson|AFRIPP|515.123.4444|01-MAY-03|AC_ACCOUNT|             2100|            - |                - |               10|\n|    max|               206|   William|   Whalen|WGIETZ|650.507.9844|30-SEP-05|    ST_MAN|            24000|            - |               205|              110|\n+-------+------------------+----------+---------+------+------------+---------+----------+-----------------+--------------+------------------+-----------------+\n\n"
     ]
    },
    {
     "output_type": "execute_result",
     "data": {
      "text/plain": [
       "50"
      ]
     },
     "execution_count": 4,
     "metadata": {},
     "output_type": "execute_result"
    }
   ],
   "source": [
    "df.printSchema()\n",
    "df.describe().show()\n",
    "df.count()\n"
   ]
  },
  {
   "cell_type": "markdown",
   "metadata": {
    "application/vnd.databricks.v1+cell": {
     "cellMetadata": {},
     "inputWidgets": {},
     "nuid": "ecb53141-deb2-4a34-89dd-7a4ce7a9feb8",
     "showTitle": false,
     "tableResultSettingsMap": {},
     "title": ""
    }
   },
   "source": [
    "## **Save as Delta Table**"
   ]
  },
  {
   "cell_type": "code",
   "execution_count": 0,
   "metadata": {
    "application/vnd.databricks.v1+cell": {
     "cellMetadata": {
      "byteLimit": 2048000,
      "rowLimit": 10000
     },
     "inputWidgets": {},
     "nuid": "a7d2d50f-4244-4e5a-9efe-bd8d17177f09",
     "showTitle": false,
     "tableResultSettingsMap": {},
     "title": ""
    }
   },
   "outputs": [],
   "source": [
    "df.write.format(\"delta\").mode(\"overwrite\").saveAsTable(\"EmployeesDelta\")\n"
   ]
  },
  {
   "cell_type": "code",
   "execution_count": 0,
   "metadata": {
    "application/vnd.databricks.v1+cell": {
     "cellMetadata": {
      "byteLimit": 2048000,
      "rowLimit": 10000
     },
     "inputWidgets": {},
     "nuid": "9e19dc9b-bd70-4312-bc7a-f8811e0d8f77",
     "showTitle": false,
     "tableResultSettingsMap": {},
     "title": ""
    }
   },
   "outputs": [
    {
     "output_type": "stream",
     "name": "stdout",
     "output_type": "stream",
     "text": [
      "+-----------+----------+---------+--------+------------+---------+--------+------+--------------+----------+-------------+\n|EMPLOYEE_ID|FIRST_NAME|LAST_NAME|   EMAIL|PHONE_NUMBER|HIRE_DATE|  JOB_ID|SALARY|COMMISSION_PCT|MANAGER_ID|DEPARTMENT_ID|\n+-----------+----------+---------+--------+------------+---------+--------+------+--------------+----------+-------------+\n|        198|    Donald| OConnell|DOCONNEL|650.507.9833|21-JUN-07|SH_CLERK|  2600|            - |       124|           50|\n|        199|   Douglas|    Grant|  DGRANT|650.507.9844|13-JAN-08|SH_CLERK|  2600|            - |       124|           50|\n|        200|  Jennifer|   Whalen| JWHALEN|515.123.4444|17-SEP-03| AD_ASST|  4400|            - |       101|           10|\n|        201|   Michael|Hartstein|MHARTSTE|515.123.5555|17-FEB-04|  MK_MAN| 13000|            - |       100|           20|\n|        202|       Pat|      Fay|    PFAY|603.123.6666|17-AUG-05|  MK_REP|  6000|            - |       201|           20|\n+-----------+----------+---------+--------+------------+---------+--------+------+--------------+----------+-------------+\n\n"
     ]
    }
   ],
   "source": [
    "spark.sql(\"SELECT * FROM EmployeesDelta LIMIT 5\").show()\n"
   ]
  },
  {
   "cell_type": "markdown",
   "metadata": {
    "application/vnd.databricks.v1+cell": {
     "cellMetadata": {},
     "inputWidgets": {},
     "nuid": "b4f0546f-19df-4aa8-98c5-57a6a24d55bb",
     "showTitle": false,
     "tableResultSettingsMap": {},
     "title": ""
    }
   },
   "source": [
    "## **Transformations**"
   ]
  },
  {
   "cell_type": "code",
   "execution_count": 0,
   "metadata": {
    "application/vnd.databricks.v1+cell": {
     "cellMetadata": {
      "byteLimit": 2048000,
      "rowLimit": 10000
     },
     "inputWidgets": {},
     "nuid": "1b87f1f8-1181-477d-a669-bfd67c5bb565",
     "showTitle": false,
     "tableResultSettingsMap": {},
     "title": ""
    }
   },
   "outputs": [
    {
     "output_type": "stream",
     "name": "stdout",
     "output_type": "stream",
     "text": [
      "+-----------+----------+---------+------+\n|EMPLOYEE_ID|FIRST_NAME|LAST_NAME|SALARY|\n+-----------+----------+---------+------+\n|        198|    Donald| OConnell|  2600|\n|        199|   Douglas|    Grant|  2600|\n|        200|  Jennifer|   Whalen|  4400|\n|        201|   Michael|Hartstein| 13000|\n|        202|       Pat|      Fay|  6000|\n+-----------+----------+---------+------+\nonly showing top 5 rows\n"
     ]
    }
   ],
   "source": [
    "# 1. Select specific columns\n",
    "df.select(\"EMPLOYEE_ID\", \"FIRST_NAME\", \"LAST_NAME\", \"SALARY\").show(5)"
   ]
  },
  {
   "cell_type": "code",
   "execution_count": 0,
   "metadata": {
    "application/vnd.databricks.v1+cell": {
     "cellMetadata": {
      "byteLimit": 2048000,
      "rowLimit": 10000
     },
     "inputWidgets": {},
     "nuid": "ffdffc40-5ed5-4702-a1ab-4daf6372474d",
     "showTitle": false,
     "tableResultSettingsMap": {},
     "title": ""
    }
   },
   "outputs": [
    {
     "output_type": "stream",
     "name": "stdout",
     "output_type": "stream",
     "text": [
      "+-----------+----------+---------+--------+------------+---------+------+------+--------------+----------+-------------+\n|EMPLOYEE_ID|FIRST_NAME|LAST_NAME|   EMAIL|PHONE_NUMBER|HIRE_DATE|JOB_ID|SALARY|COMMISSION_PCT|MANAGER_ID|DEPARTMENT_ID|\n+-----------+----------+---------+--------+------------+---------+------+------+--------------+----------+-------------+\n|        201|   Michael|Hartstein|MHARTSTE|515.123.5555|17-FEB-04|MK_MAN| 13000|            - |       100|           20|\n|        202|       Pat|      Fay|    PFAY|603.123.6666|17-AUG-05|MK_REP|  6000|            - |       201|           20|\n|        203|     Susan|   Mavris| SMAVRIS|515.123.7777|07-JUN-02|HR_REP|  6500|            - |       101|           40|\n|        204|   Hermann|     Baer|   HBAER|515.123.8888|07-JUN-02|PR_REP| 10000|            - |       101|           70|\n|        205|   Shelley|  Higgins|SHIGGINS|515.123.8080|07-JUN-02|AC_MGR| 12008|            - |       101|          110|\n+-----------+----------+---------+--------+------------+---------+------+------+--------------+----------+-------------+\nonly showing top 5 rows\n"
     ]
    }
   ],
   "source": [
    "# 2. Filter employees with SALARY > 5000\n",
    "df.filter(df[\"SALARY\"] > 5000).show(5)"
   ]
  },
  {
   "cell_type": "code",
   "execution_count": 0,
   "metadata": {
    "application/vnd.databricks.v1+cell": {
     "cellMetadata": {
      "byteLimit": 2048000,
      "rowLimit": 10000
     },
     "inputWidgets": {},
     "nuid": "44730ac7-92e6-40b4-9a2f-5939b25c40b3",
     "showTitle": false,
     "tableResultSettingsMap": {},
     "title": ""
    }
   },
   "outputs": [
    {
     "output_type": "stream",
     "name": "stdout",
     "output_type": "stream",
     "text": [
      "+-------------+------------------+\n|DEPARTMENT_ID|       avg(SALARY)|\n+-------------+------------------+\n|           20|            9500.0|\n|           40|            6500.0|\n|          100| 8601.333333333334|\n|           10|            4400.0|\n|           50|3721.7391304347825|\n|           70|           10000.0|\n|           90|19333.333333333332|\n|           60|            5760.0|\n|          110|           10154.0|\n|           30|            4150.0|\n+-------------+------------------+\n\n"
     ]
    }
   ],
   "source": [
    "#3. Group by DEPARTMENT_ID and average SALARY\n",
    "df.groupBy(\"DEPARTMENT_ID\").avg(\"SALARY\").show()"
   ]
  },
  {
   "cell_type": "code",
   "execution_count": 0,
   "metadata": {
    "application/vnd.databricks.v1+cell": {
     "cellMetadata": {
      "byteLimit": 2048000,
      "rowLimit": 10000
     },
     "inputWidgets": {},
     "nuid": "2b10d3eb-223c-4109-ad12-75cc1bc5a82b",
     "showTitle": false,
     "tableResultSettingsMap": {},
     "title": ""
    }
   },
   "outputs": [
    {
     "output_type": "stream",
     "name": "stdout",
     "output_type": "stream",
     "text": [
      "+-----------+----------+---------+--------+------------+---------+-------+------+--------------+----------+-------------+\n|EMPLOYEE_ID|FIRST_NAME|LAST_NAME|   EMAIL|PHONE_NUMBER|HIRE_DATE| JOB_ID|SALARY|COMMISSION_PCT|MANAGER_ID|DEPARTMENT_ID|\n+-----------+----------+---------+--------+------------+---------+-------+------+--------------+----------+-------------+\n|        100|    Steven|     King|   SKING|515.123.4567|17-JUN-03|AD_PRES| 24000|            - |        - |           90|\n|        102|       Lex|  De Haan| LDEHAAN|515.123.4569|13-JAN-01|  AD_VP| 17000|            - |       100|           90|\n|        101|     Neena|  Kochhar|NKOCHHAR|515.123.4568|21-SEP-05|  AD_VP| 17000|            - |       100|           90|\n|        201|   Michael|Hartstein|MHARTSTE|515.123.5555|17-FEB-04| MK_MAN| 13000|            - |       100|           20|\n|        205|   Shelley|  Higgins|SHIGGINS|515.123.8080|07-JUN-02| AC_MGR| 12008|            - |       101|          110|\n+-----------+----------+---------+--------+------------+---------+-------+------+--------------+----------+-------------+\nonly showing top 5 rows\n"
     ]
    }
   ],
   "source": [
    "# 4. Order employees by SALARY descending\n",
    "df.orderBy(df[\"SALARY\"].desc()).show(5)"
   ]
  },
  {
   "cell_type": "code",
   "execution_count": 0,
   "metadata": {
    "application/vnd.databricks.v1+cell": {
     "cellMetadata": {
      "byteLimit": 2048000,
      "rowLimit": 10000
     },
     "inputWidgets": {},
     "nuid": "8b4159a8-b34a-4821-ba08-7233646961e9",
     "showTitle": false,
     "tableResultSettingsMap": {},
     "title": ""
    }
   },
   "outputs": [
    {
     "output_type": "stream",
     "name": "stdout",
     "output_type": "stream",
     "text": [
      "+-----------+----------+---------+------+\n|EMPLOYEE_ID|FIRST_NAME|LAST_NAME|SALARY|\n+-----------+----------+---------+------+\n|        100|    Steven|     King| 24000|\n|        102|       Lex|  De Haan| 17000|\n|        101|     Neena|  Kochhar| 17000|\n|        201|   Michael|Hartstein| 13000|\n|        205|   Shelley|  Higgins| 12008|\n+-----------+----------+---------+------+\nonly showing top 5 rows\n"
     ]
    }
   ],
   "source": [
    "# 5. Top 5 highest paid employees\n",
    "df.select(\"EMPLOYEE_ID\", \"FIRST_NAME\", \"LAST_NAME\", \"SALARY\").orderBy(df[\"SALARY\"].desc()).show(5)"
   ]
  },
  {
   "cell_type": "markdown",
   "metadata": {
    "application/vnd.databricks.v1+cell": {
     "cellMetadata": {},
     "inputWidgets": {},
     "nuid": "688877ad-c2e7-4879-8dff-aefa66b9b42f",
     "showTitle": false,
     "tableResultSettingsMap": {},
     "title": ""
    }
   },
   "source": [
    "## **Visualization**"
   ]
  },
  {
   "cell_type": "code",
   "execution_count": 0,
   "metadata": {
    "application/vnd.databricks.v1+cell": {
     "cellMetadata": {
      "byteLimit": 2048000,
      "rowLimit": 10000
     },
     "inputWidgets": {},
     "nuid": "5a517997-63ce-4fea-80d2-89fb19f19cbc",
     "showTitle": false,
     "tableResultSettingsMap": {},
     "title": ""
    }
   },
   "outputs": [
    {
     "output_type": "execute_result",
     "data": {
      "text/html": [
       "<div>\n",
       "<style scoped>\n",
       "    .dataframe tbody tr th:only-of-type {\n",
       "        vertical-align: middle;\n",
       "    }\n",
       "\n",
       "    .dataframe tbody tr th {\n",
       "        vertical-align: top;\n",
       "    }\n",
       "\n",
       "    .dataframe thead th {\n",
       "        text-align: right;\n",
       "    }\n",
       "</style>\n",
       "<table border=\"1\" class=\"dataframe\">\n",
       "  <thead>\n",
       "    <tr style=\"text-align: right;\">\n",
       "      <th></th>\n",
       "      <th>DEPARTMENT_ID</th>\n",
       "      <th>AVG_SALARY</th>\n",
       "    </tr>\n",
       "  </thead>\n",
       "  <tbody>\n",
       "    <tr>\n",
       "      <th>0</th>\n",
       "      <td>20</td>\n",
       "      <td>9500.000000</td>\n",
       "    </tr>\n",
       "    <tr>\n",
       "      <th>1</th>\n",
       "      <td>40</td>\n",
       "      <td>6500.000000</td>\n",
       "    </tr>\n",
       "    <tr>\n",
       "      <th>2</th>\n",
       "      <td>100</td>\n",
       "      <td>8601.333333</td>\n",
       "    </tr>\n",
       "    <tr>\n",
       "      <th>3</th>\n",
       "      <td>10</td>\n",
       "      <td>4400.000000</td>\n",
       "    </tr>\n",
       "    <tr>\n",
       "      <th>4</th>\n",
       "      <td>50</td>\n",
       "      <td>3721.739130</td>\n",
       "    </tr>\n",
       "  </tbody>\n",
       "</table>\n",
       "</div>"
      ],
      "text/plain": [
       "   DEPARTMENT_ID   AVG_SALARY\n",
       "0             20  9500.000000\n",
       "1             40  6500.000000\n",
       "2            100  8601.333333\n",
       "3             10  4400.000000\n",
       "4             50  3721.739130"
      ]
     },
     "execution_count": 13,
     "metadata": {},
     "output_type": "execute_result"
    }
   ],
   "source": [
    "import pandas as pd\n",
    "\n",
    "# Example: Convert department-wise average salary to pandas\n",
    "dept_avg_df = df.groupBy(\"DEPARTMENT_ID\").avg(\"SALARY\").toPandas()\n",
    "dept_avg_df.rename(columns={\"avg(SALARY)\": \"AVG_SALARY\"}, inplace=True)\n",
    "\n",
    "dept_avg_df.head()\n"
   ]
  },
  {
   "cell_type": "markdown",
   "metadata": {
    "application/vnd.databricks.v1+cell": {
     "cellMetadata": {},
     "inputWidgets": {},
     "nuid": "7f56bf98-153e-471d-bd09-e1ac89de3b4a",
     "showTitle": false,
     "tableResultSettingsMap": {},
     "title": ""
    }
   },
   "source": [
    "## **1. Bar Chart**"
   ]
  },
  {
   "cell_type": "code",
   "execution_count": 0,
   "metadata": {
    "application/vnd.databricks.v1+cell": {
     "cellMetadata": {
      "byteLimit": 2048000,
      "rowLimit": 10000
     },
     "inputWidgets": {},
     "nuid": "f63ed3c9-3140-40b7-8793-23daa6759a3d",
     "showTitle": false,
     "tableResultSettingsMap": {},
     "title": ""
    }
   },
   "outputs": [
    {
     "output_type": "display_data",
     "data": {
      "text/html": [
       "<style scoped>\n",
       "  .table-result-container {\n",
       "    max-height: 300px;\n",
       "    overflow: auto;\n",
       "  }\n",
       "  table, th, td {\n",
       "    border: 1px solid black;\n",
       "    border-collapse: collapse;\n",
       "  }\n",
       "  th, td {\n",
       "    padding: 5px;\n",
       "  }\n",
       "  th {\n",
       "    text-align: left;\n",
       "  }\n",
       "</style><div class='table-result-container'><table class='table-result'><thead style='background-color: white'><tr><th>DEPARTMENT_ID</th><th>avg(SALARY)</th></tr></thead><tbody><tr><td>20</td><td>9500.0</td></tr><tr><td>40</td><td>6500.0</td></tr><tr><td>100</td><td>8601.333333333334</td></tr><tr><td>10</td><td>4400.0</td></tr><tr><td>50</td><td>3721.7391304347825</td></tr><tr><td>70</td><td>10000.0</td></tr><tr><td>90</td><td>19333.333333333332</td></tr><tr><td>60</td><td>5760.0</td></tr><tr><td>110</td><td>10154.0</td></tr><tr><td>30</td><td>4150.0</td></tr></tbody></table></div>"
      ]
     },
     "metadata": {
      "application/vnd.databricks.v1+output": {
       "addedWidgets": {},
       "aggData": [],
       "aggError": "",
       "aggOverflow": false,
       "aggSchema": [],
       "aggSeriesLimitReached": false,
       "aggType": "",
       "arguments": {},
       "columnCustomDisplayInfos": {},
       "data": [
        [
         20,
         9500.0
        ],
        [
         40,
         6500.0
        ],
        [
         100,
         8601.333333333334
        ],
        [
         10,
         4400.0
        ],
        [
         50,
         3721.7391304347825
        ],
        [
         70,
         10000.0
        ],
        [
         90,
         19333.333333333332
        ],
        [
         60,
         5760.0
        ],
        [
         110,
         10154.0
        ],
        [
         30,
         4150.0
        ]
       ],
       "datasetInfos": [],
       "dbfsResultPath": null,
       "isJsonSchema": true,
       "metadata": {},
       "overflow": false,
       "plotOptions": {
        "customPlotOptions": {},
        "displayType": "table",
        "pivotAggregation": null,
        "pivotColumns": null,
        "xColumns": null,
        "yColumns": null
       },
       "removedWidgets": [],
       "schema": [
        {
         "metadata": "{}",
         "name": "DEPARTMENT_ID",
         "type": "\"integer\""
        },
        {
         "metadata": "{}",
         "name": "avg(SALARY)",
         "type": "\"double\""
        }
       ],
       "type": "table"
      }
     },
     "output_type": "display_data"
    },
    {
     "output_type": "display_data",
     "data": {
      "text/plain": [
       "Databricks visualization. Run in Databricks to view."
      ]
     },
     "metadata": {
      "application/vnd.databricks.v1.subcommand+json": {
       "baseErrorDetails": null,
       "bindings": {},
       "collapsed": false,
       "command": "%python\n__backend_agg_display_orig = display\n__backend_agg_dfs = []\ndef __backend_agg_display_new(df):\n    __backend_agg_df_modules = [\"pandas.core.frame\", \"databricks.koalas.frame\", \"pyspark.sql.dataframe\", \"pyspark.pandas.frame\", \"pyspark.sql.connect.dataframe\"]\n    if (type(df).__module__ in __backend_agg_df_modules and type(df).__name__ == 'DataFrame') or isinstance(df, list):\n        __backend_agg_dfs.append(df)\n\ndisplay = __backend_agg_display_new\n\ndef __backend_agg_user_code_fn():\n    import base64\n    exec(base64.standard_b64decode(\"I0F2ZXJhZ2Ugc2FsYXJ5IGdyb3VwZWQgYnkgRGVwYXJ0bWVudCBJRApkZXB0X2F2Z19zYWxhcnkgPSBkZi5ncm91cEJ5KCJERVBBUlRNRU5UX0lEIikuYXZnKCJTQUxBUlkiKQpkaXNwbGF5KGRlcHRfYXZnX3NhbGFyeSk=\").decode())\n\ntry:\n    # run user code\n    __backend_agg_user_code_fn()\n\n    #reset display function\n    display = __backend_agg_display_orig\n\n    if len(__backend_agg_dfs) > 0:\n        # create a temp view\n        if type(__backend_agg_dfs[0]).__module__ == \"databricks.koalas.frame\":\n            # koalas dataframe\n            __backend_agg_dfs[0].to_spark().createOrReplaceTempView(\"DatabricksView98bd064\")\n        elif type(__backend_agg_dfs[0]).__module__ == \"pandas.core.frame\" or isinstance(__backend_agg_dfs[0], list):\n            # pandas dataframe\n            spark.createDataFrame(__backend_agg_dfs[0]).createOrReplaceTempView(\"DatabricksView98bd064\")\n        else:\n            __backend_agg_dfs[0].createOrReplaceTempView(\"DatabricksView98bd064\")\n        #run backend agg\n        display(spark.sql(\"\"\"WITH q AS (select * from DatabricksView98bd064) SELECT `DEPARTMENT_ID`,SUM(`avg(SALARY)`) `column_9dd72f6c69` FROM q GROUP BY `DEPARTMENT_ID`\"\"\"))\n    else:\n        displayHTML(\"dataframe no longer exists. If you're using dataframe.display(), use display(dataframe) instead.\")\n\n\nfinally:\n    spark.sql(\"drop view if exists DatabricksView98bd064\")\n    display = __backend_agg_display_orig\n    del __backend_agg_display_new\n    del __backend_agg_display_orig\n    del __backend_agg_dfs\n    del __backend_agg_user_code_fn\n\n",
       "commandTitle": "Visualization 1",
       "commandType": "auto",
       "commandVersion": 0,
       "commentThread": [],
       "commentsVisible": false,
       "contentSha256Hex": null,
       "customPlotOptions": {
        "redashChart": [
         {
          "key": "type",
          "value": "CHART"
         },
         {
          "key": "options",
          "value": {
           "alignYAxesAtZero": true,
           "coefficient": 1,
           "columnConfigurationMap": {
            "series": {
             "column": "DEPARTMENT_ID",
             "id": "column_9dd72f6c72"
            },
            "x": {
             "column": "DEPARTMENT_ID",
             "id": "column_9dd72f6c68"
            },
            "y": [
             {
              "column": "avg(SALARY)",
              "id": "column_9dd72f6c69",
              "transform": "SUM"
             }
            ]
           },
           "dateTimeFormat": "DD/MM/YYYY HH:mm",
           "direction": {
            "type": "counterclockwise"
           },
           "error_y": {
            "type": "data",
            "visible": true
           },
           "globalSeriesType": "column",
           "isAggregationOn": true,
           "legend": {
            "traceorder": "normal"
           },
           "missingValuesAsZero": true,
           "numberFormat": "0,0.[00000]",
           "percentFormat": "0[.]00%",
           "series": {
            "error_y": {
             "type": "data",
             "visible": true
            },
            "stacking": null
           },
           "seriesOptions": {
            "column_9dd72f6c69": {
             "name": "avg(SALARY)",
             "type": "column",
             "yAxis": 0
            }
           },
           "showDataLabels": false,
           "sizemode": "diameter",
           "sortX": true,
           "sortY": true,
           "swappedAxes": false,
           "textFormat": "",
           "useAggregationsUi": true,
           "valuesOptions": {},
           "version": 2,
           "xAxis": {
            "labels": {
             "enabled": true
            },
            "type": "-"
           },
           "yAxis": [
            {
             "type": "-"
            },
            {
             "opposite": true,
             "type": "-"
            }
           ]
          }
         }
        ]
       },
       "datasetPreviewNameToCmdIdMap": {},
       "diffDeletes": [],
       "diffInserts": [],
       "displayType": "redashChart",
       "error": null,
       "errorDetails": null,
       "errorSummary": null,
       "errorTraceType": null,
       "finishTime": 0,
       "globalVars": {},
       "guid": "",
       "height": "auto",
       "hideCommandCode": false,
       "hideCommandResult": false,
       "iPythonMetadata": null,
       "inputWidgets": {},
       "isLockedInExamMode": false,
       "latestUser": "a user",
       "latestUserId": null,
       "listResultMetadata": null,
       "metadata": {},
       "nuid": "50a1d673-5d42-457d-b8d9-7af19f44fc23",
       "origId": 0,
       "parentHierarchy": [],
       "pivotAggregation": null,
       "pivotColumns": null,
       "position": 115.5,
       "resultDbfsErrorMessage": null,
       "resultDbfsStatus": "INLINED_IN_TREE",
       "results": null,
       "showCommandTitle": false,
       "startTime": 0,
       "state": "input",
       "streamStates": {},
       "subcommandOptions": {
        "queryPlan": {
         "groups": [
          {
           "column": "DEPARTMENT_ID",
           "type": "column"
          },
          {
           "column": "DEPARTMENT_ID",
           "type": "column"
          }
         ],
         "selects": [
          {
           "column": "DEPARTMENT_ID",
           "type": "column"
          },
          {
           "alias": "column_9dd72f6c69",
           "args": [
            {
             "column": "avg(SALARY)",
             "type": "column"
            }
           ],
           "function": "SUM",
           "type": "function"
          },
          {
           "column": "DEPARTMENT_ID",
           "type": "column"
          }
         ]
        }
       },
       "submitTime": 0,
       "subtype": "tableResultSubCmd.visualization",
       "tableResultIndex": 0,
       "tableResultSettingsMap": {},
       "useConsistentColors": false,
       "version": "CommandV1",
       "width": "auto",
       "workflows": [],
       "xColumns": null,
       "yColumns": null
      }
     },
     "output_type": "display_data"
    }
   ],
   "source": [
    "#Average salary grouped by Department ID\n",
    "dept_avg_salary = df.groupBy(\"DEPARTMENT_ID\").avg(\"SALARY\")\n",
    "display(dept_avg_salary)"
   ]
  },
  {
   "cell_type": "markdown",
   "metadata": {
    "application/vnd.databricks.v1+cell": {
     "cellMetadata": {},
     "inputWidgets": {},
     "nuid": "cbeda608-fa27-4ee0-9614-f86ac9e9d0c4",
     "showTitle": false,
     "tableResultSettingsMap": {},
     "title": ""
    }
   },
   "source": [
    "## **2. Line Chart**"
   ]
  },
  {
   "cell_type": "code",
   "execution_count": 0,
   "metadata": {
    "application/vnd.databricks.v1+cell": {
     "cellMetadata": {
      "byteLimit": 2048000,
      "rowLimit": 10000
     },
     "inputWidgets": {},
     "nuid": "157f3622-2f0e-452c-a658-1eb8bff89878",
     "showTitle": false,
     "tableResultSettingsMap": {},
     "title": ""
    }
   },
   "outputs": [
    {
     "output_type": "display_data",
     "data": {
      "text/html": [
       "<style scoped>\n",
       "  .table-result-container {\n",
       "    max-height: 300px;\n",
       "    overflow: auto;\n",
       "  }\n",
       "  table, th, td {\n",
       "    border: 1px solid black;\n",
       "    border-collapse: collapse;\n",
       "  }\n",
       "  th, td {\n",
       "    padding: 5px;\n",
       "  }\n",
       "  th {\n",
       "    text-align: left;\n",
       "  }\n",
       "</style><div class='table-result-container'><table class='table-result'><thead style='background-color: white'><tr><th>HIRE_DATE</th><th>avg(SALARY)</th></tr></thead><tbody><tr><td>01-MAY-03</td><td>7900.0</td></tr><tr><td>03-JAN-06</td><td>9000.0</td></tr><tr><td>05-FEB-06</td><td>4800.0</td></tr><tr><td>06-APR-06</td><td>2500.0</td></tr><tr><td>06-FEB-08</td><td>2200.0</td></tr><tr><td>07-DEC-02</td><td>11000.0</td></tr><tr><td>07-DEC-07</td><td>6900.0</td></tr><tr><td>07-FEB-07</td><td>4200.0</td></tr><tr><td>07-JUN-02</td><td>9202.0</td></tr><tr><td>07-MAR-06</td><td>7800.0</td></tr><tr><td>08-MAR-08</td><td>2200.0</td></tr><tr><td>10-APR-05</td><td>8200.0</td></tr><tr><td>10-APR-07</td><td>2100.0</td></tr><tr><td>10-AUG-07</td><td>2500.0</td></tr><tr><td>10-OCT-05</td><td>6500.0</td></tr><tr><td>12-DEC-07</td><td>2400.0</td></tr><tr><td>12-FEB-06</td><td>2700.0</td></tr><tr><td>13-JAN-01</td><td>17000.0</td></tr><tr><td>13-JAN-08</td><td>2600.0</td></tr><tr><td>14-JAN-07</td><td>2400.0</td></tr><tr><td>14-JUL-03</td><td>3600.0</td></tr><tr><td>14-JUN-04</td><td>3300.0</td></tr><tr><td>15-NOV-06</td><td>2600.0</td></tr><tr><td>16-AUG-02</td><td>9000.0</td></tr><tr><td>16-FEB-05</td><td>2500.0</td></tr><tr><td>16-JUL-05</td><td>3200.0</td></tr><tr><td>16-NOV-07</td><td>5800.0</td></tr><tr><td>17-AUG-02</td><td>12008.0</td></tr><tr><td>17-AUG-05</td><td>6000.0</td></tr><tr><td>17-FEB-04</td><td>13000.0</td></tr><tr><td>17-JUN-03</td><td>24000.0</td></tr><tr><td>17-SEP-03</td><td>4400.0</td></tr><tr><td>18-JUL-04</td><td>8000.0</td></tr><tr><td>18-MAY-03</td><td>3100.0</td></tr><tr><td>20-AUG-05</td><td>3300.0</td></tr><tr><td>21-JUN-07</td><td>2600.0</td></tr><tr><td>21-MAY-07</td><td>6000.0</td></tr><tr><td>21-SEP-05</td><td>17000.0</td></tr><tr><td>24-DEC-05</td><td>2900.0</td></tr><tr><td>24-JUL-05</td><td>2800.0</td></tr><tr><td>25-JUN-05</td><td>4800.0</td></tr><tr><td>26-AUG-06</td><td>2900.0</td></tr><tr><td>26-OCT-05</td><td>3200.0</td></tr><tr><td>28-SEP-05</td><td>8200.0</td></tr><tr><td>28-SEP-06</td><td>2700.0</td></tr><tr><td>30-OCT-05</td><td>2800.0</td></tr><tr><td>30-SEP-05</td><td>7700.0</td></tr></tbody></table></div>"
      ]
     },
     "metadata": {
      "application/vnd.databricks.v1+output": {
       "addedWidgets": {},
       "aggData": [],
       "aggError": "",
       "aggOverflow": false,
       "aggSchema": [],
       "aggSeriesLimitReached": false,
       "aggType": "",
       "arguments": {},
       "columnCustomDisplayInfos": {},
       "data": [
        [
         "01-MAY-03",
         7900.0
        ],
        [
         "03-JAN-06",
         9000.0
        ],
        [
         "05-FEB-06",
         4800.0
        ],
        [
         "06-APR-06",
         2500.0
        ],
        [
         "06-FEB-08",
         2200.0
        ],
        [
         "07-DEC-02",
         11000.0
        ],
        [
         "07-DEC-07",
         6900.0
        ],
        [
         "07-FEB-07",
         4200.0
        ],
        [
         "07-JUN-02",
         9202.0
        ],
        [
         "07-MAR-06",
         7800.0
        ],
        [
         "08-MAR-08",
         2200.0
        ],
        [
         "10-APR-05",
         8200.0
        ],
        [
         "10-APR-07",
         2100.0
        ],
        [
         "10-AUG-07",
         2500.0
        ],
        [
         "10-OCT-05",
         6500.0
        ],
        [
         "12-DEC-07",
         2400.0
        ],
        [
         "12-FEB-06",
         2700.0
        ],
        [
         "13-JAN-01",
         17000.0
        ],
        [
         "13-JAN-08",
         2600.0
        ],
        [
         "14-JAN-07",
         2400.0
        ],
        [
         "14-JUL-03",
         3600.0
        ],
        [
         "14-JUN-04",
         3300.0
        ],
        [
         "15-NOV-06",
         2600.0
        ],
        [
         "16-AUG-02",
         9000.0
        ],
        [
         "16-FEB-05",
         2500.0
        ],
        [
         "16-JUL-05",
         3200.0
        ],
        [
         "16-NOV-07",
         5800.0
        ],
        [
         "17-AUG-02",
         12008.0
        ],
        [
         "17-AUG-05",
         6000.0
        ],
        [
         "17-FEB-04",
         13000.0
        ],
        [
         "17-JUN-03",
         24000.0
        ],
        [
         "17-SEP-03",
         4400.0
        ],
        [
         "18-JUL-04",
         8000.0
        ],
        [
         "18-MAY-03",
         3100.0
        ],
        [
         "20-AUG-05",
         3300.0
        ],
        [
         "21-JUN-07",
         2600.0
        ],
        [
         "21-MAY-07",
         6000.0
        ],
        [
         "21-SEP-05",
         17000.0
        ],
        [
         "24-DEC-05",
         2900.0
        ],
        [
         "24-JUL-05",
         2800.0
        ],
        [
         "25-JUN-05",
         4800.0
        ],
        [
         "26-AUG-06",
         2900.0
        ],
        [
         "26-OCT-05",
         3200.0
        ],
        [
         "28-SEP-05",
         8200.0
        ],
        [
         "28-SEP-06",
         2700.0
        ],
        [
         "30-OCT-05",
         2800.0
        ],
        [
         "30-SEP-05",
         7700.0
        ]
       ],
       "datasetInfos": [],
       "dbfsResultPath": null,
       "isJsonSchema": true,
       "metadata": {},
       "overflow": false,
       "plotOptions": {
        "customPlotOptions": {},
        "displayType": "table",
        "pivotAggregation": null,
        "pivotColumns": null,
        "xColumns": null,
        "yColumns": null
       },
       "removedWidgets": [],
       "schema": [
        {
         "metadata": "{}",
         "name": "HIRE_DATE",
         "type": "\"string\""
        },
        {
         "metadata": "{}",
         "name": "avg(SALARY)",
         "type": "\"double\""
        }
       ],
       "type": "table"
      }
     },
     "output_type": "display_data"
    },
    {
     "output_type": "display_data",
     "data": {
      "text/plain": [
       "Databricks visualization. Run in Databricks to view."
      ]
     },
     "metadata": {
      "application/vnd.databricks.v1.subcommand+json": {
       "baseErrorDetails": null,
       "bindings": {},
       "collapsed": false,
       "command": "%python\n__backend_agg_display_orig = display\n__backend_agg_dfs = []\ndef __backend_agg_display_new(df):\n    __backend_agg_df_modules = [\"pandas.core.frame\", \"databricks.koalas.frame\", \"pyspark.sql.dataframe\", \"pyspark.pandas.frame\", \"pyspark.sql.connect.dataframe\"]\n    if (type(df).__module__ in __backend_agg_df_modules and type(df).__name__ == 'DataFrame') or isinstance(df, list):\n        __backend_agg_dfs.append(df)\n\ndisplay = __backend_agg_display_new\n\ndef __backend_agg_user_code_fn():\n    import base64\n    exec(base64.standard_b64decode(\"I0F2ZXJhZ2Ugc2FsYXJ5IGJ5IEhpcmUgRGF0ZSAodHJlbmQpCnNhbGFyeV90cmVuZCA9IGRmLmdyb3VwQnkoIkhJUkVfREFURSIpLmF2ZygiU0FMQVJZIikub3JkZXJCeSgiSElSRV9EQVRFIikKZGlzcGxheShzYWxhcnlfdHJlbmQp\").decode())\n\ntry:\n    # run user code\n    __backend_agg_user_code_fn()\n\n    #reset display function\n    display = __backend_agg_display_orig\n\n    if len(__backend_agg_dfs) > 0:\n        # create a temp view\n        if type(__backend_agg_dfs[0]).__module__ == \"databricks.koalas.frame\":\n            # koalas dataframe\n            __backend_agg_dfs[0].to_spark().createOrReplaceTempView(\"DatabricksView1646cd4\")\n        elif type(__backend_agg_dfs[0]).__module__ == \"pandas.core.frame\" or isinstance(__backend_agg_dfs[0], list):\n            # pandas dataframe\n            spark.createDataFrame(__backend_agg_dfs[0]).createOrReplaceTempView(\"DatabricksView1646cd4\")\n        else:\n            __backend_agg_dfs[0].createOrReplaceTempView(\"DatabricksView1646cd4\")\n        #run backend agg\n        display(spark.sql(\"\"\"WITH q AS (select * from DatabricksView1646cd4) SELECT `HIRE_DATE`,SUM(`avg(SALARY)`) `column_9dd72f6c81`,`avg(SALARY)` FROM q GROUP BY `HIRE_DATE`,`avg(SALARY)`\"\"\"))\n    else:\n        displayHTML(\"dataframe no longer exists. If you're using dataframe.display(), use display(dataframe) instead.\")\n\n\nfinally:\n    spark.sql(\"drop view if exists DatabricksView1646cd4\")\n    display = __backend_agg_display_orig\n    del __backend_agg_display_new\n    del __backend_agg_display_orig\n    del __backend_agg_dfs\n    del __backend_agg_user_code_fn\n\n",
       "commandTitle": "Visualization 1",
       "commandType": "auto",
       "commandVersion": 0,
       "commentThread": [],
       "commentsVisible": false,
       "contentSha256Hex": null,
       "customPlotOptions": {
        "redashChart": [
         {
          "key": "type",
          "value": "CHART"
         },
         {
          "key": "options",
          "value": {
           "alignYAxesAtZero": true,
           "coefficient": 1,
           "columnConfigurationMap": {
            "series": {
             "column": "avg(SALARY)",
             "id": "column_9dd72f6c83"
            },
            "x": {
             "column": "HIRE_DATE",
             "id": "column_9dd72f6c79"
            },
            "y": [
             {
              "column": "avg(SALARY)",
              "id": "column_9dd72f6c81",
              "transform": "SUM"
             }
            ]
           },
           "dateTimeFormat": "DD/MM/YYYY HH:mm",
           "direction": {
            "type": "counterclockwise"
           },
           "error_y": {
            "type": "data",
            "visible": true
           },
           "globalSeriesType": "column",
           "isAggregationOn": true,
           "legend": {
            "traceorder": "normal"
           },
           "missingValuesAsZero": true,
           "numberFormat": "0,0.[00000]",
           "percentFormat": "0[.]00%",
           "series": {
            "error_y": {
             "type": "data",
             "visible": true
            },
            "stacking": null
           },
           "seriesOptions": {
            "column_9dd72f6c81": {
             "type": "column",
             "yAxis": 0
            }
           },
           "showDataLabels": false,
           "sizemode": "diameter",
           "sortX": true,
           "sortY": true,
           "swappedAxes": false,
           "textFormat": "",
           "useAggregationsUi": true,
           "valuesOptions": {},
           "version": 2,
           "xAxis": {
            "labels": {
             "enabled": true
            },
            "type": "-"
           },
           "yAxis": [
            {
             "type": "-"
            },
            {
             "opposite": true,
             "type": "-"
            }
           ]
          }
         }
        ]
       },
       "datasetPreviewNameToCmdIdMap": {},
       "diffDeletes": [],
       "diffInserts": [],
       "displayType": "redashChart",
       "error": null,
       "errorDetails": null,
       "errorSummary": null,
       "errorTraceType": null,
       "finishTime": 0,
       "globalVars": {},
       "guid": "",
       "height": "auto",
       "hideCommandCode": false,
       "hideCommandResult": false,
       "iPythonMetadata": null,
       "inputWidgets": {},
       "isLockedInExamMode": false,
       "latestUser": "a user",
       "latestUserId": null,
       "listResultMetadata": null,
       "metadata": {},
       "nuid": "4fc53b8c-7447-4ed7-86d2-8b4b5844e8b0",
       "origId": 0,
       "parentHierarchy": [],
       "pivotAggregation": null,
       "pivotColumns": null,
       "position": 117.5,
       "resultDbfsErrorMessage": null,
       "resultDbfsStatus": "INLINED_IN_TREE",
       "results": null,
       "showCommandTitle": false,
       "startTime": 0,
       "state": "input",
       "streamStates": {},
       "subcommandOptions": {
        "queryPlan": {
         "groups": [
          {
           "column": "HIRE_DATE",
           "type": "column"
          },
          {
           "column": "avg(SALARY)",
           "type": "column"
          }
         ],
         "selects": [
          {
           "column": "HIRE_DATE",
           "type": "column"
          },
          {
           "alias": "column_9dd72f6c81",
           "args": [
            {
             "column": "avg(SALARY)",
             "type": "column"
            }
           ],
           "function": "SUM",
           "type": "function"
          },
          {
           "column": "avg(SALARY)",
           "type": "column"
          }
         ]
        }
       },
       "submitTime": 0,
       "subtype": "tableResultSubCmd.visualization",
       "tableResultIndex": 0,
       "tableResultSettingsMap": {},
       "useConsistentColors": false,
       "version": "CommandV1",
       "width": "auto",
       "workflows": [],
       "xColumns": null,
       "yColumns": null
      }
     },
     "output_type": "display_data"
    }
   ],
   "source": [
    "#Average salary by Hire Date (trend)\n",
    "salary_trend = df.groupBy(\"HIRE_DATE\").avg(\"SALARY\").orderBy(\"HIRE_DATE\")\n",
    "display(salary_trend)"
   ]
  },
  {
   "cell_type": "markdown",
   "metadata": {
    "application/vnd.databricks.v1+cell": {
     "cellMetadata": {},
     "inputWidgets": {},
     "nuid": "a20b0fbc-8956-4f46-8079-747123d97e28",
     "showTitle": false,
     "tableResultSettingsMap": {},
     "title": ""
    }
   },
   "source": [
    "## **3. Pie Chart**"
   ]
  },
  {
   "cell_type": "code",
   "execution_count": 0,
   "metadata": {
    "application/vnd.databricks.v1+cell": {
     "cellMetadata": {
      "byteLimit": 2048000,
      "rowLimit": 10000
     },
     "inputWidgets": {},
     "nuid": "8cbbd29a-c8a4-4faf-9933-c6dfb344b029",
     "showTitle": false,
     "tableResultSettingsMap": {},
     "title": ""
    }
   },
   "outputs": [
    {
     "output_type": "display_data",
     "data": {
      "text/html": [
       "<style scoped>\n",
       "  .table-result-container {\n",
       "    max-height: 300px;\n",
       "    overflow: auto;\n",
       "  }\n",
       "  table, th, td {\n",
       "    border: 1px solid black;\n",
       "    border-collapse: collapse;\n",
       "  }\n",
       "  th, td {\n",
       "    padding: 5px;\n",
       "  }\n",
       "  th {\n",
       "    text-align: left;\n",
       "  }\n",
       "</style><div class='table-result-container'><table class='table-result'><thead style='background-color: white'><tr><th>JOB_ID</th><th>count</th></tr></thead><tbody><tr><td>FI_ACCOUNT</td><td>5</td></tr><tr><td>MK_MAN</td><td>1</td></tr><tr><td>IT_PROG</td><td>5</td></tr><tr><td>FI_MGR</td><td>1</td></tr><tr><td>AC_ACCOUNT</td><td>1</td></tr><tr><td>HR_REP</td><td>1</td></tr><tr><td>PU_CLERK</td><td>5</td></tr><tr><td>AC_MGR</td><td>1</td></tr><tr><td>PR_REP</td><td>1</td></tr><tr><td>ST_MAN</td><td>5</td></tr><tr><td>MK_REP</td><td>1</td></tr><tr><td>PU_MAN</td><td>1</td></tr><tr><td>SH_CLERK</td><td>2</td></tr><tr><td>AD_PRES</td><td>1</td></tr><tr><td>AD_ASST</td><td>1</td></tr><tr><td>ST_CLERK</td><td>16</td></tr><tr><td>AD_VP</td><td>2</td></tr></tbody></table></div>"
      ]
     },
     "metadata": {
      "application/vnd.databricks.v1+output": {
       "addedWidgets": {},
       "aggData": [],
       "aggError": "",
       "aggOverflow": false,
       "aggSchema": [],
       "aggSeriesLimitReached": false,
       "aggType": "",
       "arguments": {},
       "columnCustomDisplayInfos": {},
       "data": [
        [
         "FI_ACCOUNT",
         5
        ],
        [
         "MK_MAN",
         1
        ],
        [
         "IT_PROG",
         5
        ],
        [
         "FI_MGR",
         1
        ],
        [
         "AC_ACCOUNT",
         1
        ],
        [
         "HR_REP",
         1
        ],
        [
         "PU_CLERK",
         5
        ],
        [
         "AC_MGR",
         1
        ],
        [
         "PR_REP",
         1
        ],
        [
         "ST_MAN",
         5
        ],
        [
         "MK_REP",
         1
        ],
        [
         "PU_MAN",
         1
        ],
        [
         "SH_CLERK",
         2
        ],
        [
         "AD_PRES",
         1
        ],
        [
         "AD_ASST",
         1
        ],
        [
         "ST_CLERK",
         16
        ],
        [
         "AD_VP",
         2
        ]
       ],
       "datasetInfos": [],
       "dbfsResultPath": null,
       "isJsonSchema": true,
       "metadata": {},
       "overflow": false,
       "plotOptions": {
        "customPlotOptions": {},
        "displayType": "table",
        "pivotAggregation": null,
        "pivotColumns": null,
        "xColumns": null,
        "yColumns": null
       },
       "removedWidgets": [],
       "schema": [
        {
         "metadata": "{}",
         "name": "JOB_ID",
         "type": "\"string\""
        },
        {
         "metadata": "{}",
         "name": "count",
         "type": "\"long\""
        }
       ],
       "type": "table"
      }
     },
     "output_type": "display_data"
    },
    {
     "output_type": "display_data",
     "data": {
      "text/plain": [
       "Databricks visualization. Run in Databricks to view."
      ]
     },
     "metadata": {
      "application/vnd.databricks.v1.subcommand+json": {
       "baseErrorDetails": null,
       "bindings": {},
       "collapsed": false,
       "command": "%python\n__backend_agg_display_orig = display\n__backend_agg_dfs = []\ndef __backend_agg_display_new(df):\n    __backend_agg_df_modules = [\"pandas.core.frame\", \"databricks.koalas.frame\", \"pyspark.sql.dataframe\", \"pyspark.pandas.frame\", \"pyspark.sql.connect.dataframe\"]\n    if (type(df).__module__ in __backend_agg_df_modules and type(df).__name__ == 'DataFrame') or isinstance(df, list):\n        __backend_agg_dfs.append(df)\n\ndisplay = __backend_agg_display_new\n\ndef __backend_agg_user_code_fn():\n    import base64\n    exec(base64.standard_b64decode(\"I0NvdW50IG9mIGVtcGxveWVlcyBieSBKb2IgSUQKam9iX2NvdW50ID0gZGYuZ3JvdXBCeSgiSk9CX0lEIikuY291bnQoKQpkaXNwbGF5KGpvYl9jb3VudCk=\").decode())\n\ntry:\n    # run user code\n    __backend_agg_user_code_fn()\n\n    #reset display function\n    display = __backend_agg_display_orig\n\n    if len(__backend_agg_dfs) > 0:\n        # create a temp view\n        if type(__backend_agg_dfs[0]).__module__ == \"databricks.koalas.frame\":\n            # koalas dataframe\n            __backend_agg_dfs[0].to_spark().createOrReplaceTempView(\"DatabricksView470b5a4\")\n        elif type(__backend_agg_dfs[0]).__module__ == \"pandas.core.frame\" or isinstance(__backend_agg_dfs[0], list):\n            # pandas dataframe\n            spark.createDataFrame(__backend_agg_dfs[0]).createOrReplaceTempView(\"DatabricksView470b5a4\")\n        else:\n            __backend_agg_dfs[0].createOrReplaceTempView(\"DatabricksView470b5a4\")\n        #run backend agg\n        display(spark.sql(\"\"\"WITH q AS (select * from DatabricksView470b5a4) SELECT `JOB_ID`,SUM(`count`) `column_9dd72f6c91` FROM q GROUP BY `JOB_ID`\"\"\"))\n    else:\n        displayHTML(\"dataframe no longer exists. If you're using dataframe.display(), use display(dataframe) instead.\")\n\n\nfinally:\n    spark.sql(\"drop view if exists DatabricksView470b5a4\")\n    display = __backend_agg_display_orig\n    del __backend_agg_display_new\n    del __backend_agg_display_orig\n    del __backend_agg_dfs\n    del __backend_agg_user_code_fn\n\n",
       "commandTitle": "Visualization 1",
       "commandType": "auto",
       "commandVersion": 0,
       "commentThread": [],
       "commentsVisible": false,
       "contentSha256Hex": null,
       "customPlotOptions": {
        "redashChart": [
         {
          "key": "type",
          "value": "CHART"
         },
         {
          "key": "options",
          "value": {
           "alignYAxesAtZero": true,
           "coefficient": 1,
           "columnConfigurationMap": {
            "x": {
             "column": "JOB_ID",
             "id": "column_9dd72f6c90"
            },
            "y": [
             {
              "column": "count",
              "id": "column_9dd72f6c91",
              "transform": "SUM"
             }
            ]
           },
           "dateTimeFormat": "DD/MM/YYYY HH:mm",
           "direction": {
            "type": "counterclockwise"
           },
           "error_y": {
            "type": "data",
            "visible": true
           },
           "globalSeriesType": "pie",
           "legend": {
            "traceorder": "normal"
           },
           "missingValuesAsZero": true,
           "numberFormat": "0,0.[00000]",
           "percentFormat": "0[.]00%",
           "series": {
            "error_y": {
             "type": "data",
             "visible": true
            },
            "stacking": null
           },
           "seriesOptions": {
            "column_9dd72f6c91": {
             "name": "count",
             "type": "pie",
             "yAxis": 0
            }
           },
           "showDataLabels": true,
           "sizemode": "diameter",
           "sortX": true,
           "sortY": true,
           "swappedAxes": false,
           "textFormat": "",
           "useAggregationsUi": true,
           "valuesOptions": {},
           "version": 2,
           "xAxis": {
            "labels": {
             "enabled": true
            },
            "type": "-"
           },
           "yAxis": [
            {
             "type": "-"
            },
            {
             "opposite": true,
             "type": "-"
            }
           ]
          }
         }
        ]
       },
       "datasetPreviewNameToCmdIdMap": {},
       "diffDeletes": [],
       "diffInserts": [],
       "displayType": "redashChart",
       "error": null,
       "errorDetails": null,
       "errorSummary": null,
       "errorTraceType": null,
       "finishTime": 0,
       "globalVars": {},
       "guid": "",
       "height": "auto",
       "hideCommandCode": false,
       "hideCommandResult": false,
       "iPythonMetadata": null,
       "inputWidgets": {},
       "isLockedInExamMode": false,
       "latestUser": "a user",
       "latestUserId": null,
       "listResultMetadata": null,
       "metadata": {},
       "nuid": "02513de7-c42d-4672-b8e6-e266ad09eaf6",
       "origId": 0,
       "parentHierarchy": [],
       "pivotAggregation": null,
       "pivotColumns": null,
       "position": 119.5,
       "resultDbfsErrorMessage": null,
       "resultDbfsStatus": "INLINED_IN_TREE",
       "results": null,
       "showCommandTitle": false,
       "startTime": 0,
       "state": "input",
       "streamStates": {},
       "subcommandOptions": {
        "queryPlan": {
         "groups": [
          {
           "column": "JOB_ID",
           "type": "column"
          }
         ],
         "selects": [
          {
           "column": "JOB_ID",
           "type": "column"
          },
          {
           "alias": "column_9dd72f6c91",
           "args": [
            {
             "column": "count",
             "type": "column"
            }
           ],
           "function": "SUM",
           "type": "function"
          }
         ]
        }
       },
       "submitTime": 0,
       "subtype": "tableResultSubCmd.visualization",
       "tableResultIndex": 0,
       "tableResultSettingsMap": {},
       "useConsistentColors": false,
       "version": "CommandV1",
       "width": "auto",
       "workflows": [],
       "xColumns": null,
       "yColumns": null
      }
     },
     "output_type": "display_data"
    }
   ],
   "source": [
    "#Count of employees by Job ID\n",
    "job_count = df.groupBy(\"JOB_ID\").count()\n",
    "display(job_count)"
   ]
  }
 ],
 "metadata": {
  "application/vnd.databricks.v1+notebook": {
   "computePreferences": null,
   "dashboards": [],
   "environmentMetadata": {
    "base_environment": "",
    "environment_version": "2"
   },
   "inputWidgetPreferences": null,
   "language": "python",
   "notebookMetadata": {
    "pythonIndentUnit": 4
   },
   "notebookName": "CaseStudy:ADLS in Databricks",
   "widgets": {}
  },
  "language_info": {
   "name": "python"
  }
 },
 "nbformat": 4,
 "nbformat_minor": 0
}