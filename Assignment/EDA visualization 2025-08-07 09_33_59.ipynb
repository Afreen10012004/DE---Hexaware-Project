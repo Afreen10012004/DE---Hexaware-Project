{
 "cells": [
  {
   "cell_type": "code",
   "execution_count": 0,
   "metadata": {
    "application/vnd.databricks.v1+cell": {
     "cellMetadata": {
      "byteLimit": 2048000,
      "implicitDf": true,
      "rowLimit": 10000
     },
     "inputWidgets": {},
     "nuid": "ddf4dc3c-fa18-4bcf-857a-d9a4fd38417a",
     "showTitle": false,
     "tableResultSettingsMap": {},
     "title": ""
    }
   },
   "outputs": [
    {
     "output_type": "display_data",
     "data": {
      "text/html": [
       "<style scoped>\n",
       "  .table-result-container {\n",
       "    max-height: 300px;\n",
       "    overflow: auto;\n",
       "  }\n",
       "  table, th, td {\n",
       "    border: 1px solid black;\n",
       "    border-collapse: collapse;\n",
       "  }\n",
       "  th, td {\n",
       "    padding: 5px;\n",
       "  }\n",
       "  th {\n",
       "    text-align: left;\n",
       "  }\n",
       "</style><div class='table-result-container'><table class='table-result'><thead style='background-color: white'><tr><th>dropoff_hour</th><th>num</th></tr></thead><tbody><tr><td>15</td><td>89</td></tr><tr><td>20</td><td>118</td></tr><tr><td>21</td><td>115</td></tr><tr><td>22</td><td>106</td></tr><tr><td>17</td><td>65</td></tr><tr><td>1</td><td>99</td></tr><tr><td>23</td><td>113</td></tr><tr><td>4</td><td>47</td></tr><tr><td>13</td><td>83</td></tr><tr><td>8</td><td>54</td></tr><tr><td>6</td><td>32</td></tr><tr><td>3</td><td>50</td></tr><tr><td>16</td><td>74</td></tr><tr><td>11</td><td>70</td></tr><tr><td>0</td><td>112</td></tr><tr><td>2</td><td>78</td></tr><tr><td>19</td><td>125</td></tr><tr><td>7</td><td>30</td></tr><tr><td>10</td><td>58</td></tr><tr><td>9</td><td>51</td></tr><tr><td>18</td><td>103</td></tr><tr><td>14</td><td>72</td></tr><tr><td>5</td><td>20</td></tr><tr><td>12</td><td>76</td></tr></tbody></table></div>"
      ]
     },
     "metadata": {
      "application/vnd.databricks.v1+output": {
       "addedWidgets": {},
       "aggData": [],
       "aggError": "",
       "aggOverflow": false,
       "aggSchema": [],
       "aggSeriesLimitReached": false,
       "aggType": "",
       "arguments": {},
       "columnCustomDisplayInfos": {},
       "data": [
        [
         15,
         89
        ],
        [
         20,
         118
        ],
        [
         21,
         115
        ],
        [
         22,
         106
        ],
        [
         17,
         65
        ],
        [
         1,
         99
        ],
        [
         23,
         113
        ],
        [
         4,
         47
        ],
        [
         13,
         83
        ],
        [
         8,
         54
        ],
        [
         6,
         32
        ],
        [
         3,
         50
        ],
        [
         16,
         74
        ],
        [
         11,
         70
        ],
        [
         0,
         112
        ],
        [
         2,
         78
        ],
        [
         19,
         125
        ],
        [
         7,
         30
        ],
        [
         10,
         58
        ],
        [
         9,
         51
        ],
        [
         18,
         103
        ],
        [
         14,
         72
        ],
        [
         5,
         20
        ],
        [
         12,
         76
        ]
       ],
       "datasetInfos": [
        {
         "name": "_sqldf",
         "schema": {
          "fields": [
           {
            "metadata": {},
            "name": "dropoff_hour",
            "nullable": true,
            "type": "integer"
           },
           {
            "metadata": {},
            "name": "num",
            "nullable": false,
            "type": "long"
           }
          ],
          "type": "struct"
         },
         "tableIdentifier": null,
         "typeStr": "pyspark.sql.connect.dataframe.DataFrame"
        }
       ],
       "dbfsResultPath": null,
       "isJsonSchema": true,
       "metadata": {
        "createTempViewForImplicitDf": true,
        "dataframeName": "_sqldf",
        "executionCount": 2
       },
       "overflow": false,
       "plotOptions": {
        "customPlotOptions": {},
        "displayType": "table",
        "pivotAggregation": null,
        "pivotColumns": null,
        "xColumns": null,
        "yColumns": null
       },
       "removedWidgets": [],
       "schema": [
        {
         "metadata": "{}",
         "name": "dropoff_hour",
         "type": "\"integer\""
        },
        {
         "metadata": "{}",
         "name": "num",
         "type": "\"long\""
        }
       ],
       "type": "table"
      }
     },
     "output_type": "display_data"
    },
    {
     "output_type": "display_data",
     "data": {
      "text/plain": [
       "Databricks visualization. Run in Databricks to view."
      ]
     },
     "metadata": {
      "application/vnd.databricks.v1.subcommand+json": {
       "baseErrorDetails": null,
       "bindings": {},
       "collapsed": false,
       "command": "%sql WITH q AS (SELECT\n      hour(tpep_dropoff_datetime) as dropoff_hour,\n      COUNT(*) AS num\n   FROM samples.nyctaxi.trips\n   WHERE pickup_zip in (10001, 10002)\n   GROUP BY 1) SELECT `dropoff_hour`,SUM(`num`) `column_c5f41aa641` FROM q GROUP BY `dropoff_hour`",
       "commandTitle": "Visualization 1",
       "commandType": "auto",
       "commandVersion": 0,
       "commentThread": [],
       "commentsVisible": false,
       "contentSha256Hex": null,
       "customPlotOptions": {
        "redashChart": [
         {
          "key": "type",
          "value": "CHART"
         },
         {
          "key": "options",
          "value": {
           "alignYAxesAtZero": true,
           "coefficient": 1,
           "columnConfigurationMap": {
            "x": {
             "column": "dropoff_hour",
             "id": "column_c5f41aa640"
            },
            "y": [
             {
              "column": "num",
              "id": "column_c5f41aa641",
              "transform": "SUM"
             }
            ]
           },
           "dateTimeFormat": "DD/MM/YYYY HH:mm",
           "direction": {
            "type": "counterclockwise"
           },
           "error_y": {
            "type": "data",
            "visible": true
           },
           "globalSeriesType": "line",
           "isAggregationOn": true,
           "legend": {
            "traceorder": "normal"
           },
           "missingValuesAsZero": true,
           "numberFormat": "0,0.[00000]",
           "percentFormat": "0[.]00%",
           "series": {
            "error_y": {
             "type": "data",
             "visible": true
            },
            "stacking": null
           },
           "seriesOptions": {
            "column_c5f41aa641": {
             "name": "num",
             "type": "line",
             "yAxis": 0
            }
           },
           "showDataLabels": false,
           "sizemode": "diameter",
           "sortX": true,
           "sortY": true,
           "swappedAxes": false,
           "textFormat": "",
           "useAggregationsUi": true,
           "valuesOptions": {},
           "version": 2,
           "xAxis": {
            "labels": {
             "enabled": true
            },
            "type": "-"
           },
           "yAxis": [
            {
             "type": "-"
            },
            {
             "opposite": true,
             "type": "-"
            }
           ]
          }
         }
        ]
       },
       "datasetPreviewNameToCmdIdMap": {},
       "diffDeletes": [],
       "diffInserts": [],
       "displayType": "redashChart",
       "error": null,
       "errorDetails": null,
       "errorSummary": null,
       "errorTraceType": null,
       "finishTime": 0,
       "globalVars": {},
       "guid": "",
       "height": "auto",
       "hideCommandCode": false,
       "hideCommandResult": false,
       "iPythonMetadata": null,
       "inputWidgets": {},
       "isLockedInExamMode": false,
       "latestUser": "a user",
       "latestUserId": null,
       "listResultMetadata": null,
       "metadata": {},
       "nuid": "fa7802fe-469b-4d35-bc62-fe9ca4e75ce1",
       "origId": 0,
       "parentHierarchy": [],
       "pivotAggregation": null,
       "pivotColumns": null,
       "position": 2.0,
       "resultDbfsErrorMessage": null,
       "resultDbfsStatus": "INLINED_IN_TREE",
       "results": null,
       "showCommandTitle": false,
       "startTime": 0,
       "state": "input",
       "streamStates": {},
       "subcommandOptions": {
        "queryPlan": {
         "groups": [
          {
           "column": "dropoff_hour",
           "type": "column"
          }
         ],
         "selects": [
          {
           "column": "dropoff_hour",
           "type": "column"
          },
          {
           "alias": "column_c5f41aa641",
           "args": [
            {
             "column": "num",
             "type": "column"
            }
           ],
           "function": "SUM",
           "type": "function"
          }
         ]
        }
       },
       "submitTime": 0,
       "subtype": "tableResultSubCmd.visualization",
       "tableResultIndex": 0,
       "tableResultSettingsMap": {},
       "useConsistentColors": false,
       "version": "CommandV1",
       "width": "auto",
       "workflows": [],
       "xColumns": null,
       "yColumns": null
      }
     },
     "output_type": "display_data"
    }
   ],
   "source": [
    "%sql\n",
    "USE CATALOG samples;\n",
    "   SELECT\n",
    "      hour(tpep_dropoff_datetime) as dropoff_hour,\n",
    "      COUNT(*) AS num\n",
    "   FROM samples.nyctaxi.trips\n",
    "   WHERE pickup_zip in (10001, 10002)\n",
    "   GROUP BY 1"
   ]
  },
  {
   "cell_type": "code",
   "execution_count": 0,
   "metadata": {
    "application/vnd.databricks.v1+cell": {
     "cellMetadata": {
      "byteLimit": 2048000,
      "rowLimit": 10000
     },
     "inputWidgets": {},
     "nuid": "9ecba15b-501f-4755-9402-cc661d9ce007",
     "showTitle": false,
     "tableResultSettingsMap": {},
     "title": ""
    }
   },
   "outputs": [
    {
     "output_type": "display_data",
     "data": {
      "text/html": [
       "<style scoped>\n",
       "  .table-result-container {\n",
       "    max-height: 300px;\n",
       "    overflow: auto;\n",
       "  }\n",
       "  table, th, td {\n",
       "    border: 1px solid black;\n",
       "    border-collapse: collapse;\n",
       "  }\n",
       "  th, td {\n",
       "    padding: 5px;\n",
       "  }\n",
       "  th {\n",
       "    text-align: left;\n",
       "  }\n",
       "</style><div class='table-result-container'><table class='table-result'><thead style='background-color: white'><tr><th>dropoff_hour</th><th>num</th></tr></thead><tbody><tr><td>15</td><td>71</td></tr><tr><td>20</td><td>88</td></tr><tr><td>21</td><td>80</td></tr><tr><td>22</td><td>60</td></tr><tr><td>17</td><td>54</td></tr><tr><td>1</td><td>40</td></tr><tr><td>23</td><td>60</td></tr><tr><td>4</td><td>20</td></tr><tr><td>13</td><td>69</td></tr><tr><td>8</td><td>42</td></tr><tr><td>6</td><td>19</td></tr><tr><td>3</td><td>18</td></tr><tr><td>16</td><td>63</td></tr><tr><td>11</td><td>53</td></tr><tr><td>0</td><td>57</td></tr><tr><td>2</td><td>24</td></tr><tr><td>19</td><td>85</td></tr><tr><td>7</td><td>26</td></tr><tr><td>10</td><td>45</td></tr><tr><td>9</td><td>42</td></tr><tr><td>18</td><td>81</td></tr><tr><td>14</td><td>56</td></tr><tr><td>5</td><td>12</td></tr><tr><td>12</td><td>62</td></tr></tbody></table></div>"
      ]
     },
     "metadata": {
      "application/vnd.databricks.v1+output": {
       "addedWidgets": {},
       "aggData": [],
       "aggError": "",
       "aggOverflow": false,
       "aggSchema": [],
       "aggSeriesLimitReached": false,
       "aggType": "",
       "arguments": {},
       "columnCustomDisplayInfos": {},
       "data": [
        [
         15,
         71
        ],
        [
         20,
         88
        ],
        [
         21,
         80
        ],
        [
         22,
         60
        ],
        [
         17,
         54
        ],
        [
         1,
         40
        ],
        [
         23,
         60
        ],
        [
         4,
         20
        ],
        [
         13,
         69
        ],
        [
         8,
         42
        ],
        [
         6,
         19
        ],
        [
         3,
         18
        ],
        [
         16,
         63
        ],
        [
         11,
         53
        ],
        [
         0,
         57
        ],
        [
         2,
         24
        ],
        [
         19,
         85
        ],
        [
         7,
         26
        ],
        [
         10,
         45
        ],
        [
         9,
         42
        ],
        [
         18,
         81
        ],
        [
         14,
         56
        ],
        [
         5,
         12
        ],
        [
         12,
         62
        ]
       ],
       "datasetInfos": [],
       "dbfsResultPath": null,
       "isJsonSchema": true,
       "metadata": {},
       "overflow": false,
       "plotOptions": {
        "customPlotOptions": {},
        "displayType": "table",
        "pivotAggregation": null,
        "pivotColumns": null,
        "xColumns": null,
        "yColumns": null
       },
       "removedWidgets": [],
       "schema": [
        {
         "metadata": "{}",
         "name": "dropoff_hour",
         "type": "\"integer\""
        },
        {
         "metadata": "{}",
         "name": "num",
         "type": "\"long\""
        }
       ],
       "type": "table"
      }
     },
     "output_type": "display_data"
    },
    {
     "output_type": "display_data",
     "data": {
      "text/plain": [
       "Databricks visualization. Run in Databricks to view."
      ]
     },
     "metadata": {
      "application/vnd.databricks.v1.subcommand+json": {
       "baseErrorDetails": null,
       "bindings": {},
       "collapsed": false,
       "command": "%python\n__backend_agg_display_orig = display\n__backend_agg_dfs = []\ndef __backend_agg_display_new(df):\n    __backend_agg_df_modules = [\"pandas.core.frame\", \"databricks.koalas.frame\", \"pyspark.sql.dataframe\", \"pyspark.pandas.frame\", \"pyspark.sql.connect.dataframe\"]\n    if (type(df).__module__ in __backend_agg_df_modules and type(df).__name__ == 'DataFrame') or isinstance(df, list):\n        __backend_agg_dfs.append(df)\n\ndisplay = __backend_agg_display_new\n\ndef __backend_agg_user_code_fn():\n    import base64\n    exec(base64.standard_b64decode(\"ZnJvbSBweXNwYXJrLnNxbC5mdW5jdGlvbnMgaW1wb3J0IGhvdXIsIGNvbAoKcGlja3VwemlwID0gJzEwMDAxJyAgIyBFeGFtcGxlIHZhbHVlIGZvciBwaWNrdXB6aXAKZGYgPSBzcGFyay50YWJsZSgic2FtcGxlcy5ueWN0YXhpLnRyaXBzIikKcmVzdWx0X2RmID0gZGYuZmlsdGVyKGNvbCgicGlja3VwX3ppcCIpID09IHBpY2t1cHppcCkgXAogICAgICAgICAgICAgIC5ncm91cEJ5KGhvdXIoY29sKCJ0cGVwX2Ryb3BvZmZfZGF0ZXRpbWUiKSkuYWxpYXMoImRyb3BvZmZfaG91ciIpKSBcCiAgICAgICAgICAgICAgLmNvdW50KCkgXAogICAgICAgICAgICAgIC53aXRoQ29sdW1uUmVuYW1lZCgiY291bnQiLCAibnVtIikKZGlzcGxheShyZXN1bHRfZGYp\").decode())\n\ntry:\n    # run user code\n    __backend_agg_user_code_fn()\n\n    #reset display function\n    display = __backend_agg_display_orig\n\n    if len(__backend_agg_dfs) > 0:\n        # create a temp view\n        if type(__backend_agg_dfs[0]).__module__ == \"databricks.koalas.frame\":\n            # koalas dataframe\n            __backend_agg_dfs[0].to_spark().createOrReplaceTempView(\"DatabricksViewfc2a220\")\n        elif type(__backend_agg_dfs[0]).__module__ == \"pandas.core.frame\" or isinstance(__backend_agg_dfs[0], list):\n            # pandas dataframe\n            spark.createDataFrame(__backend_agg_dfs[0]).createOrReplaceTempView(\"DatabricksViewfc2a220\")\n        else:\n            __backend_agg_dfs[0].createOrReplaceTempView(\"DatabricksViewfc2a220\")\n        #run backend agg\n        display(spark.sql(\"\"\"WITH q AS (select * from DatabricksViewfc2a220) SELECT `dropoff_hour`,SUM(`num`) `column_c5f41aa644`,`dropoff_hour` FROM q GROUP BY `dropoff_hour`\"\"\"))\n    else:\n        displayHTML(\"dataframe no longer exists. If you're using dataframe.display(), use display(dataframe) instead.\")\n\n\nfinally:\n    spark.sql(\"drop view if exists DatabricksViewfc2a220\")\n    display = __backend_agg_display_orig\n    del __backend_agg_display_new\n    del __backend_agg_display_orig\n    del __backend_agg_dfs\n    del __backend_agg_user_code_fn\n\n",
       "commandTitle": "Visualization 1",
       "commandType": "auto",
       "commandVersion": 0,
       "commentThread": [],
       "commentsVisible": false,
       "contentSha256Hex": null,
       "customPlotOptions": {
        "redashChart": [
         {
          "key": "type",
          "value": "CHART"
         },
         {
          "key": "options",
          "value": {
           "alignYAxesAtZero": true,
           "coefficient": 1,
           "columnConfigurationMap": {
            "series": {
             "column": "dropoff_hour",
             "id": "column_c5f41aa647"
            },
            "x": {
             "column": "dropoff_hour",
             "id": "column_c5f41aa643"
            },
            "y": [
             {
              "column": "num",
              "id": "column_c5f41aa644",
              "transform": "SUM"
             }
            ]
           },
           "dateTimeFormat": "DD/MM/YYYY HH:mm",
           "direction": {
            "type": "counterclockwise"
           },
           "error_y": {
            "type": "data",
            "visible": true
           },
           "globalSeriesType": "column",
           "isAggregationOn": true,
           "legend": {
            "traceorder": "normal"
           },
           "missingValuesAsZero": true,
           "numberFormat": "0,0.[00000]",
           "percentFormat": "0[.]00%",
           "series": {
            "error_y": {
             "type": "data",
             "visible": true
            },
            "stacking": null
           },
           "seriesOptions": {
            "column_c5f41aa644": {
             "name": "num",
             "type": "column",
             "yAxis": 0
            }
           },
           "showDataLabels": false,
           "sizemode": "diameter",
           "sortX": true,
           "sortY": true,
           "swappedAxes": false,
           "textFormat": "",
           "useAggregationsUi": true,
           "valuesOptions": {},
           "version": 2,
           "xAxis": {
            "labels": {
             "enabled": true
            },
            "type": "-"
           },
           "yAxis": [
            {
             "type": "-"
            },
            {
             "opposite": true,
             "type": "-"
            }
           ]
          }
         }
        ]
       },
       "datasetPreviewNameToCmdIdMap": {},
       "diffDeletes": [],
       "diffInserts": [],
       "displayType": "redashChart",
       "error": null,
       "errorDetails": null,
       "errorSummary": null,
       "errorTraceType": null,
       "finishTime": 0,
       "globalVars": {},
       "guid": "",
       "height": "auto",
       "hideCommandCode": false,
       "hideCommandResult": false,
       "iPythonMetadata": null,
       "inputWidgets": {},
       "isLockedInExamMode": false,
       "latestUser": "a user",
       "latestUserId": null,
       "listResultMetadata": null,
       "metadata": {},
       "nuid": "ff576930-5dfc-4b15-a119-1d1f4c67af48",
       "origId": 0,
       "parentHierarchy": [],
       "pivotAggregation": null,
       "pivotColumns": null,
       "position": 3.0,
       "resultDbfsErrorMessage": null,
       "resultDbfsStatus": "INLINED_IN_TREE",
       "results": null,
       "showCommandTitle": false,
       "startTime": 0,
       "state": "input",
       "streamStates": {},
       "subcommandOptions": {
        "queryPlan": {
         "groups": [
          {
           "column": "dropoff_hour",
           "type": "column"
          },
          {
           "column": "dropoff_hour",
           "type": "column"
          }
         ],
         "selects": [
          {
           "column": "dropoff_hour",
           "type": "column"
          },
          {
           "alias": "column_c5f41aa644",
           "args": [
            {
             "column": "num",
             "type": "column"
            }
           ],
           "function": "SUM",
           "type": "function"
          },
          {
           "column": "dropoff_hour",
           "type": "column"
          }
         ]
        }
       },
       "submitTime": 0,
       "subtype": "tableResultSubCmd.visualization",
       "tableResultIndex": 0,
       "tableResultSettingsMap": {},
       "useConsistentColors": false,
       "version": "CommandV1",
       "width": "auto",
       "workflows": [],
       "xColumns": null,
       "yColumns": null
      }
     },
     "output_type": "display_data"
    }
   ],
   "source": [
    "from pyspark.sql.functions import hour, col\n",
    "\n",
    "pickupzip = '10001'  # Example value for pickupzip\n",
    "df = spark.table(\"samples.nyctaxi.trips\")\n",
    "result_df = df.filter(col(\"pickup_zip\") == pickupzip) \\\n",
    "              .groupBy(hour(col(\"tpep_dropoff_datetime\")).alias(\"dropoff_hour\")) \\\n",
    "              .count() \\\n",
    "              .withColumnRenamed(\"count\", \"num\")\n",
    "display(result_df)"
   ]
  },
  {
   "cell_type": "code",
   "execution_count": 0,
   "metadata": {
    "application/vnd.databricks.v1+cell": {
     "cellMetadata": {
      "byteLimit": 2048000,
      "rowLimit": 10000
     },
     "inputWidgets": {},
     "nuid": "4eb77bf0-ba95-48d4-b1d5-289e58939c6b",
     "showTitle": false,
     "tableResultSettingsMap": {},
     "title": ""
    }
   },
   "outputs": [
    {
     "output_type": "stream",
     "name": "stdout",
     "output_type": "stream",
     "text": [
      "+--------------------+---------------------+-------------+-----------+----------+-----------+\n|tpep_pickup_datetime|tpep_dropoff_datetime|trip_distance|fare_amount|pickup_zip|dropoff_zip|\n+--------------------+---------------------+-------------+-----------+----------+-----------+\n| 2016-02-13 21:47:53|  2016-02-13 21:57:15|          1.4|        8.0|     10103|      10110|\n| 2016-02-13 18:29:09|  2016-02-13 18:37:23|         1.31|        7.5|     10023|      10023|\n| 2016-02-06 19:40:58|  2016-02-06 19:52:32|          1.8|        9.5|     10001|      10018|\n| 2016-02-12 19:06:43|  2016-02-12 19:20:54|          2.3|       11.5|     10044|      10111|\n| 2016-02-23 10:27:56|  2016-02-23 10:58:33|          2.6|       18.5|     10199|      10022|\n+--------------------+---------------------+-------------+-----------+----------+-----------+\nonly showing top 5 rows\n"
     ]
    }
   ],
   "source": [
    "trips_df = spark.table(\"samples.nyctaxi.trips\")\n",
    "trips_df.show(5)"
   ]
  },
  {
   "cell_type": "code",
   "execution_count": 0,
   "metadata": {
    "application/vnd.databricks.v1+cell": {
     "cellMetadata": {
      "byteLimit": 2048000,
      "rowLimit": 10000
     },
     "inputWidgets": {},
     "nuid": "e6d3ea20-a7db-4dff-81b2-0f1fe0bfd665",
     "showTitle": false,
     "tableResultSettingsMap": {},
     "title": ""
    }
   },
   "outputs": [
    {
     "output_type": "stream",
     "name": "stdout",
     "output_type": "stream",
     "text": [
      "root\n |-- tpep_pickup_datetime: timestamp (nullable = true)\n |-- tpep_dropoff_datetime: timestamp (nullable = true)\n |-- trip_distance: double (nullable = true)\n |-- fare_amount: double (nullable = true)\n |-- pickup_zip: integer (nullable = true)\n |-- dropoff_zip: integer (nullable = true)\n\n"
     ]
    }
   ],
   "source": [
    "trips_df.printSchema()\n"
   ]
  },
  {
   "cell_type": "code",
   "execution_count": 0,
   "metadata": {
    "application/vnd.databricks.v1+cell": {
     "cellMetadata": {
      "byteLimit": 2048000,
      "rowLimit": 10000
     },
     "inputWidgets": {},
     "nuid": "f51881e9-0ba7-49c0-a35e-d75580253908",
     "showTitle": false,
     "tableResultSettingsMap": {},
     "title": ""
    }
   },
   "outputs": [
    {
     "output_type": "display_data",
     "data": {
      "text/html": [
       "<style scoped>\n",
       "  .table-result-container {\n",
       "    max-height: 300px;\n",
       "    overflow: auto;\n",
       "  }\n",
       "  table, th, td {\n",
       "    border: 1px solid black;\n",
       "    border-collapse: collapse;\n",
       "  }\n",
       "  th, td {\n",
       "    padding: 5px;\n",
       "  }\n",
       "  th {\n",
       "    text-align: left;\n",
       "  }\n",
       "</style><div class='table-result-container'><table class='table-result'><thead style='background-color: white'><tr><th>fare_amount</th><th>trip_distance</th></tr></thead><tbody><tr><td>40.5</td><td>14</td></tr><tr><td>14.0</td><td>342</td></tr><tr><td>74.0</td><td>1</td></tr><tr><td>46.5</td><td>4</td></tr><tr><td>48.5</td><td>4</td></tr><tr><td>9.5</td><td>774</td></tr><tr><td>49.0</td><td>4</td></tr><tr><td>23.0</td><td>108</td></tr><tr><td>31.5</td><td>43</td></tr><tr><td>58.5</td><td>1</td></tr><tr><td>0.0</td><td>5</td></tr><tr><td>44.0</td><td>8</td></tr><tr><td>67.0</td><td>3</td></tr><tr><td>13.3</td><td>1</td></tr><tr><td>34.0</td><td>29</td></tr><tr><td>32.0</td><td>46</td></tr><tr><td>22.0</td><td>91</td></tr><tr><td>275.0</td><td>1</td></tr><tr><td>27.5</td><td>64</td></tr><tr><td>29.0</td><td>47</td></tr><tr><td>7.5</td><td>1022</td></tr><tr><td>4.5</td><td>870</td></tr><tr><td>18.0</td><td>178</td></tr><tr><td>61.5</td><td>3</td></tr><tr><td>6.0</td><td>1091</td></tr><tr><td>43.5</td><td>11</td></tr><tr><td>25.0</td><td>78</td></tr><tr><td>115.0</td><td>1</td></tr><tr><td>58.0</td><td>2</td></tr><tr><td>45.5</td><td>12</td></tr><tr><td>93.5</td><td>1</td></tr><tr><td>15.0</td><td>295</td></tr><tr><td>34.5</td><td>25</td></tr><tr><td>-8.0</td><td>1</td></tr><tr><td>69.0</td><td>1</td></tr><tr><td>46.0</td><td>9</td></tr><tr><td>3.5</td><td>283</td></tr><tr><td>75.0</td><td>1</td></tr><tr><td>40.0</td><td>18</td></tr><tr><td>85.0</td><td>2</td></tr><tr><td>260.0</td><td>1</td></tr><tr><td>53.5</td><td>4</td></tr><tr><td>35.0</td><td>28</td></tr><tr><td>33.5</td><td>34</td></tr><tr><td>4.0</td><td>569</td></tr><tr><td>-4.0</td><td>2</td></tr><tr><td>42.0</td><td>9</td></tr><tr><td>41.0</td><td>18</td></tr><tr><td>75.5</td><td>1</td></tr><tr><td>95.0</td><td>3</td></tr><tr><td>23.5</td><td>89</td></tr><tr><td>55.5</td><td>3</td></tr><tr><td>5.0</td><td>1046</td></tr><tr><td>8.0</td><td>964</td></tr><tr><td>60.0</td><td>5</td></tr><tr><td>39.0</td><td>16</td></tr><tr><td>69.5</td><td>1</td></tr><tr><td>57.0</td><td>2</td></tr><tr><td>47.0</td><td>9</td></tr><tr><td>49.5</td><td>4</td></tr><tr><td>17.0</td><td>212</td></tr><tr><td>20.0</td><td>134</td></tr><tr><td>12.5</td><td>456</td></tr><tr><td>56.5</td><td>2</td></tr><tr><td>51.0</td><td>4</td></tr><tr><td>52.0</td><td>419</td></tr><tr><td>36.34</td><td>1</td></tr><tr><td>62.5</td><td>2</td></tr><tr><td>32.5</td><td>38</td></tr><tr><td>27.0</td><td>58</td></tr><tr><td>19.0</td><td>165</td></tr><tr><td>59.0</td><td>1</td></tr><tr><td>82.5</td><td>1</td></tr><tr><td>20.5</td><td>118</td></tr><tr><td>-3.0</td><td>1</td></tr><tr><td>28.5</td><td>60</td></tr><tr><td>8.5</td><td>922</td></tr><tr><td>10.0</td><td>746</td></tr><tr><td>51.5</td><td>1</td></tr><tr><td>30.0</td><td>51</td></tr><tr><td>41.5</td><td>12</td></tr><tr><td>39.5</td><td>20</td></tr><tr><td>29.5</td><td>46</td></tr><tr><td>24.5</td><td>68</td></tr><tr><td>35.5</td><td>29</td></tr><tr><td>61.0</td><td>1</td></tr><tr><td>67.5</td><td>2</td></tr><tr><td>88.0</td><td>1</td></tr><tr><td>11.5</td><td>513</td></tr><tr><td>50.5</td><td>9</td></tr><tr><td>37.5</td><td>27</td></tr><tr><td>64.5</td><td>1</td></tr><tr><td>62.0</td><td>1</td></tr><tr><td>0.01</td><td>4</td></tr><tr><td>7.0</td><td>1076</td></tr><tr><td>54.0</td><td>4</td></tr><tr><td>16.5</td><td>236</td></tr><tr><td>53.0</td><td>1</td></tr><tr><td>13.5</td><td>364</td></tr><tr><td>21.0</td><td>104</td></tr><tr><td>71.0</td><td>2</td></tr><tr><td>14.5</td><td>326</td></tr><tr><td>66.0</td><td>2</td></tr><tr><td>78.5</td><td>2</td></tr><tr><td>55.0</td><td>6</td></tr><tr><td>31.0</td><td>50</td></tr><tr><td>13.0</td><td>435</td></tr><tr><td>19.5</td><td>140</td></tr><tr><td>10.5</td><td>663</td></tr><tr><td>44.5</td><td>12</td></tr><tr><td>54.5</td><td>3</td></tr><tr><td>70.0</td><td>1</td></tr><tr><td>15.5</td><td>259</td></tr><tr><td>79.0</td><td>1</td></tr><tr><td>7.3</td><td>1</td></tr><tr><td>18.5</td><td>177</td></tr><tr><td>24.0</td><td>89</td></tr><tr><td>65.0</td><td>5</td></tr><tr><td>63.0</td><td>2</td></tr><tr><td>26.0</td><td>72</td></tr><tr><td>50.0</td><td>6</td></tr><tr><td>17.5</td><td>208</td></tr><tr><td>11.0</td><td>635</td></tr><tr><td>47.5</td><td>1</td></tr><tr><td>45.0</td><td>10</td></tr><tr><td>38.0</td><td>24</td></tr><tr><td>28.0</td><td>54</td></tr><tr><td>36.5</td><td>18</td></tr><tr><td>33.0</td><td>46</td></tr><tr><td>64.0</td><td>2</td></tr><tr><td>26.5</td><td>71</td></tr><tr><td>21.5</td><td>81</td></tr><tr><td>9.0</td><td>833</td></tr><tr><td>94.5</td><td>1</td></tr><tr><td>12.0</td><td>510</td></tr><tr><td>188.0</td><td>1</td></tr><tr><td>84.5</td><td>1</td></tr><tr><td>72.0</td><td>1</td></tr><tr><td>38.5</td><td>17</td></tr><tr><td>85.5</td><td>1</td></tr><tr><td>48.0</td><td>4</td></tr><tr><td>22.5</td><td>85</td></tr><tr><td>6.5</td><td>1113</td></tr><tr><td>30.5</td><td>40</td></tr><tr><td>56.0</td><td>2</td></tr><tr><td>70.5</td><td>1</td></tr><tr><td>3.0</td><td>95</td></tr><tr><td>5.5</td><td>1139</td></tr><tr><td>25.5</td><td>70</td></tr><tr><td>2.5</td><td>71</td></tr><tr><td>42.5</td><td>11</td></tr><tr><td>105.0</td><td>2</td></tr><tr><td>59.5</td><td>1</td></tr><tr><td>43.0</td><td>12</td></tr><tr><td>130.0</td><td>1</td></tr><tr><td>37.0</td><td>22</td></tr><tr><td>10.3</td><td>1</td></tr><tr><td>-4.5</td><td>1</td></tr><tr><td>16.0</td><td>249</td></tr><tr><td>36.0</td><td>29</td></tr><tr><td>73.5</td><td>1</td></tr></tbody></table></div>"
      ]
     },
     "metadata": {
      "application/vnd.databricks.v1+output": {
       "addedWidgets": {},
       "aggData": [],
       "aggError": "",
       "aggOverflow": false,
       "aggSchema": [],
       "aggSeriesLimitReached": false,
       "aggType": "",
       "arguments": {},
       "columnCustomDisplayInfos": {},
       "data": [
        [
         40.5,
         14
        ],
        [
         14.0,
         342
        ],
        [
         74.0,
         1
        ],
        [
         46.5,
         4
        ],
        [
         48.5,
         4
        ],
        [
         9.5,
         774
        ],
        [
         49.0,
         4
        ],
        [
         23.0,
         108
        ],
        [
         31.5,
         43
        ],
        [
         58.5,
         1
        ],
        [
         0.0,
         5
        ],
        [
         44.0,
         8
        ],
        [
         67.0,
         3
        ],
        [
         13.3,
         1
        ],
        [
         34.0,
         29
        ],
        [
         32.0,
         46
        ],
        [
         22.0,
         91
        ],
        [
         275.0,
         1
        ],
        [
         27.5,
         64
        ],
        [
         29.0,
         47
        ],
        [
         7.5,
         1022
        ],
        [
         4.5,
         870
        ],
        [
         18.0,
         178
        ],
        [
         61.5,
         3
        ],
        [
         6.0,
         1091
        ],
        [
         43.5,
         11
        ],
        [
         25.0,
         78
        ],
        [
         115.0,
         1
        ],
        [
         58.0,
         2
        ],
        [
         45.5,
         12
        ],
        [
         93.5,
         1
        ],
        [
         15.0,
         295
        ],
        [
         34.5,
         25
        ],
        [
         -8.0,
         1
        ],
        [
         69.0,
         1
        ],
        [
         46.0,
         9
        ],
        [
         3.5,
         283
        ],
        [
         75.0,
         1
        ],
        [
         40.0,
         18
        ],
        [
         85.0,
         2
        ],
        [
         260.0,
         1
        ],
        [
         53.5,
         4
        ],
        [
         35.0,
         28
        ],
        [
         33.5,
         34
        ],
        [
         4.0,
         569
        ],
        [
         -4.0,
         2
        ],
        [
         42.0,
         9
        ],
        [
         41.0,
         18
        ],
        [
         75.5,
         1
        ],
        [
         95.0,
         3
        ],
        [
         23.5,
         89
        ],
        [
         55.5,
         3
        ],
        [
         5.0,
         1046
        ],
        [
         8.0,
         964
        ],
        [
         60.0,
         5
        ],
        [
         39.0,
         16
        ],
        [
         69.5,
         1
        ],
        [
         57.0,
         2
        ],
        [
         47.0,
         9
        ],
        [
         49.5,
         4
        ],
        [
         17.0,
         212
        ],
        [
         20.0,
         134
        ],
        [
         12.5,
         456
        ],
        [
         56.5,
         2
        ],
        [
         51.0,
         4
        ],
        [
         52.0,
         419
        ],
        [
         36.34,
         1
        ],
        [
         62.5,
         2
        ],
        [
         32.5,
         38
        ],
        [
         27.0,
         58
        ],
        [
         19.0,
         165
        ],
        [
         59.0,
         1
        ],
        [
         82.5,
         1
        ],
        [
         20.5,
         118
        ],
        [
         -3.0,
         1
        ],
        [
         28.5,
         60
        ],
        [
         8.5,
         922
        ],
        [
         10.0,
         746
        ],
        [
         51.5,
         1
        ],
        [
         30.0,
         51
        ],
        [
         41.5,
         12
        ],
        [
         39.5,
         20
        ],
        [
         29.5,
         46
        ],
        [
         24.5,
         68
        ],
        [
         35.5,
         29
        ],
        [
         61.0,
         1
        ],
        [
         67.5,
         2
        ],
        [
         88.0,
         1
        ],
        [
         11.5,
         513
        ],
        [
         50.5,
         9
        ],
        [
         37.5,
         27
        ],
        [
         64.5,
         1
        ],
        [
         62.0,
         1
        ],
        [
         0.01,
         4
        ],
        [
         7.0,
         1076
        ],
        [
         54.0,
         4
        ],
        [
         16.5,
         236
        ],
        [
         53.0,
         1
        ],
        [
         13.5,
         364
        ],
        [
         21.0,
         104
        ],
        [
         71.0,
         2
        ],
        [
         14.5,
         326
        ],
        [
         66.0,
         2
        ],
        [
         78.5,
         2
        ],
        [
         55.0,
         6
        ],
        [
         31.0,
         50
        ],
        [
         13.0,
         435
        ],
        [
         19.5,
         140
        ],
        [
         10.5,
         663
        ],
        [
         44.5,
         12
        ],
        [
         54.5,
         3
        ],
        [
         70.0,
         1
        ],
        [
         15.5,
         259
        ],
        [
         79.0,
         1
        ],
        [
         7.3,
         1
        ],
        [
         18.5,
         177
        ],
        [
         24.0,
         89
        ],
        [
         65.0,
         5
        ],
        [
         63.0,
         2
        ],
        [
         26.0,
         72
        ],
        [
         50.0,
         6
        ],
        [
         17.5,
         208
        ],
        [
         11.0,
         635
        ],
        [
         47.5,
         1
        ],
        [
         45.0,
         10
        ],
        [
         38.0,
         24
        ],
        [
         28.0,
         54
        ],
        [
         36.5,
         18
        ],
        [
         33.0,
         46
        ],
        [
         64.0,
         2
        ],
        [
         26.5,
         71
        ],
        [
         21.5,
         81
        ],
        [
         9.0,
         833
        ],
        [
         94.5,
         1
        ],
        [
         12.0,
         510
        ],
        [
         188.0,
         1
        ],
        [
         84.5,
         1
        ],
        [
         72.0,
         1
        ],
        [
         38.5,
         17
        ],
        [
         85.5,
         1
        ],
        [
         48.0,
         4
        ],
        [
         22.5,
         85
        ],
        [
         6.5,
         1113
        ],
        [
         30.5,
         40
        ],
        [
         56.0,
         2
        ],
        [
         70.5,
         1
        ],
        [
         3.0,
         95
        ],
        [
         5.5,
         1139
        ],
        [
         25.5,
         70
        ],
        [
         2.5,
         71
        ],
        [
         42.5,
         11
        ],
        [
         105.0,
         2
        ],
        [
         59.5,
         1
        ],
        [
         43.0,
         12
        ],
        [
         130.0,
         1
        ],
        [
         37.0,
         22
        ],
        [
         10.3,
         1
        ],
        [
         -4.5,
         1
        ],
        [
         16.0,
         249
        ],
        [
         36.0,
         29
        ],
        [
         73.5,
         1
        ]
       ],
       "datasetInfos": [],
       "dbfsResultPath": null,
       "isJsonSchema": true,
       "metadata": {},
       "overflow": false,
       "plotOptions": {
        "customPlotOptions": {},
        "displayType": "table",
        "pivotAggregation": null,
        "pivotColumns": null,
        "xColumns": null,
        "yColumns": null
       },
       "removedWidgets": [],
       "schema": [
        {
         "metadata": "{}",
         "name": "fare_amount",
         "type": "\"double\""
        },
        {
         "metadata": "{}",
         "name": "trip_distance",
         "type": "\"long\""
        }
       ],
       "type": "table"
      }
     },
     "output_type": "display_data"
    },
    {
     "output_type": "display_data",
     "data": {
      "text/plain": [
       "Databricks visualization. Run in Databricks to view."
      ]
     },
     "metadata": {
      "application/vnd.databricks.v1.subcommand+json": {
       "baseErrorDetails": null,
       "bindings": {},
       "collapsed": false,
       "command": "%python\n__backend_agg_display_orig = display\n__backend_agg_dfs = []\ndef __backend_agg_display_new(df):\n    __backend_agg_df_modules = [\"pandas.core.frame\", \"databricks.koalas.frame\", \"pyspark.sql.dataframe\", \"pyspark.pandas.frame\", \"pyspark.sql.connect.dataframe\"]\n    if (type(df).__module__ in __backend_agg_df_modules and type(df).__name__ == 'DataFrame') or isinstance(df, list):\n        __backend_agg_dfs.append(df)\n\ndisplay = __backend_agg_display_new\n\ndef __backend_agg_user_code_fn():\n    import base64\n    exec(base64.standard_b64decode(\"ZnJvbSBweXNwYXJrLnNxbC5mdW5jdGlvbnMgaW1wb3J0IGNvdW50CnRyaXBzX2RmLmdyb3VwQnkoImZhcmVfYW1vdW50IikuYWdnKGNvdW50KCIqIikuYWxpYXMoInRyaXBfZGlzdGFuY2UiKSkuZGlzcGxheSgp\").decode())\n\ntry:\n    # run user code\n    __backend_agg_user_code_fn()\n\n    #reset display function\n    display = __backend_agg_display_orig\n\n    if len(__backend_agg_dfs) > 0:\n        # create a temp view\n        if type(__backend_agg_dfs[0]).__module__ == \"databricks.koalas.frame\":\n            # koalas dataframe\n            __backend_agg_dfs[0].to_spark().createOrReplaceTempView(\"DatabricksView92c38fe\")\n        elif type(__backend_agg_dfs[0]).__module__ == \"pandas.core.frame\" or isinstance(__backend_agg_dfs[0], list):\n            # pandas dataframe\n            spark.createDataFrame(__backend_agg_dfs[0]).createOrReplaceTempView(\"DatabricksView92c38fe\")\n        else:\n            __backend_agg_dfs[0].createOrReplaceTempView(\"DatabricksView92c38fe\")\n        #run backend agg\n        display(spark.sql(\"\"\"WITH q AS (select * from DatabricksView92c38fe) SELECT `fare_amount`,SUM(`trip_distance`) `column_c5f41aa649`,`fare_amount` FROM q GROUP BY `fare_amount`\"\"\"))\n    else:\n        displayHTML(\"dataframe no longer exists. If you're using dataframe.display(), use display(dataframe) instead.\")\n\n\nfinally:\n    spark.sql(\"drop view if exists DatabricksView92c38fe\")\n    display = __backend_agg_display_orig\n    del __backend_agg_display_new\n    del __backend_agg_display_orig\n    del __backend_agg_dfs\n    del __backend_agg_user_code_fn\n\n",
       "commandTitle": "Visualization 1",
       "commandType": "auto",
       "commandVersion": 0,
       "commentThread": [],
       "commentsVisible": false,
       "contentSha256Hex": null,
       "customPlotOptions": {
        "redashChart": [
         {
          "key": "type",
          "value": "CHART"
         },
         {
          "key": "options",
          "value": {
           "alignYAxesAtZero": true,
           "coefficient": 1,
           "columnConfigurationMap": {
            "series": {
             "column": "fare_amount",
             "id": "column_c5f41aa651"
            },
            "x": {
             "column": "fare_amount",
             "id": "column_c5f41aa648"
            },
            "y": [
             {
              "column": "trip_distance",
              "id": "column_c5f41aa649",
              "transform": "SUM"
             }
            ]
           },
           "dateTimeFormat": "DD/MM/YYYY HH:mm",
           "direction": {
            "type": "counterclockwise"
           },
           "error_y": {
            "type": "data",
            "visible": true
           },
           "globalSeriesType": "column",
           "isAggregationOn": true,
           "legend": {
            "traceorder": "normal"
           },
           "missingValuesAsZero": true,
           "numberFormat": "0,0.[00000]",
           "percentFormat": "0[.]00%",
           "series": {
            "error_y": {
             "type": "data",
             "visible": true
            },
            "stacking": null
           },
           "seriesOptions": {
            "column_c5f41aa649": {
             "name": "trip_distance",
             "type": "column",
             "yAxis": 0
            }
           },
           "showDataLabels": false,
           "sizemode": "diameter",
           "sortX": true,
           "sortY": true,
           "swappedAxes": false,
           "textFormat": "",
           "useAggregationsUi": true,
           "valuesOptions": {},
           "version": 2,
           "xAxis": {
            "labels": {
             "enabled": true
            },
            "type": "-"
           },
           "yAxis": [
            {
             "type": "-"
            },
            {
             "opposite": true,
             "type": "-"
            }
           ]
          }
         }
        ]
       },
       "datasetPreviewNameToCmdIdMap": {},
       "diffDeletes": [],
       "diffInserts": [],
       "displayType": "redashChart",
       "error": null,
       "errorDetails": null,
       "errorSummary": null,
       "errorTraceType": null,
       "finishTime": 0,
       "globalVars": {},
       "guid": "",
       "height": "auto",
       "hideCommandCode": false,
       "hideCommandResult": false,
       "iPythonMetadata": null,
       "inputWidgets": {},
       "isLockedInExamMode": false,
       "latestUser": "a user",
       "latestUserId": null,
       "listResultMetadata": null,
       "metadata": {},
       "nuid": "814f8090-d687-4228-b438-7d0594978927",
       "origId": 0,
       "parentHierarchy": [],
       "pivotAggregation": null,
       "pivotColumns": null,
       "position": 6.0,
       "resultDbfsErrorMessage": null,
       "resultDbfsStatus": "INLINED_IN_TREE",
       "results": null,
       "showCommandTitle": false,
       "startTime": 0,
       "state": "input",
       "streamStates": {},
       "subcommandOptions": {
        "queryPlan": {
         "groups": [
          {
           "column": "fare_amount",
           "type": "column"
          },
          {
           "column": "fare_amount",
           "type": "column"
          }
         ],
         "selects": [
          {
           "column": "fare_amount",
           "type": "column"
          },
          {
           "alias": "column_c5f41aa649",
           "args": [
            {
             "column": "trip_distance",
             "type": "column"
            }
           ],
           "function": "SUM",
           "type": "function"
          },
          {
           "column": "fare_amount",
           "type": "column"
          }
         ]
        }
       },
       "submitTime": 0,
       "subtype": "tableResultSubCmd.visualization",
       "tableResultIndex": 0,
       "tableResultSettingsMap": {},
       "useConsistentColors": false,
       "version": "CommandV1",
       "width": "auto",
       "workflows": [],
       "xColumns": null,
       "yColumns": null
      }
     },
     "output_type": "display_data"
    }
   ],
   "source": [
    "from pyspark.sql.functions import count\n",
    "trips_df.groupBy(\"fare_amount\").agg(count(\"*\").alias(\"trip_distance\")).display()"
   ]
  },
  {
   "cell_type": "code",
   "execution_count": 0,
   "metadata": {
    "application/vnd.databricks.v1+cell": {
     "cellMetadata": {
      "byteLimit": 2048000,
      "rowLimit": 10000
     },
     "inputWidgets": {},
     "nuid": "4e5132e6-96a2-456d-bb93-2e1c7e29de09",
     "showTitle": false,
     "tableResultSettingsMap": {},
     "title": ""
    }
   },
   "outputs": [
    {
     "output_type": "display_data",
     "data": {
      "text/html": [
       "<style scoped>\n",
       "  .table-result-container {\n",
       "    max-height: 300px;\n",
       "    overflow: auto;\n",
       "  }\n",
       "  table, th, td {\n",
       "    border: 1px solid black;\n",
       "    border-collapse: collapse;\n",
       "  }\n",
       "  th, td {\n",
       "    padding: 5px;\n",
       "  }\n",
       "  th {\n",
       "    text-align: left;\n",
       "  }\n",
       "</style><div class='table-result-container'><table class='table-result'><thead style='background-color: white'><tr><th>pickup_date</th><th>trip_count</th></tr></thead><tbody><tr><td>2016-01-01</td><td>326</td></tr><tr><td>2016-01-02</td><td>338</td></tr><tr><td>2016-01-03</td><td>276</td></tr><tr><td>2016-01-04</td><td>325</td></tr><tr><td>2016-01-05</td><td>359</td></tr><tr><td>2016-01-06</td><td>360</td></tr><tr><td>2016-01-07</td><td>356</td></tr><tr><td>2016-01-08</td><td>390</td></tr><tr><td>2016-01-09</td><td>412</td></tr><tr><td>2016-01-10</td><td>347</td></tr><tr><td>2016-01-11</td><td>347</td></tr><tr><td>2016-01-12</td><td>357</td></tr><tr><td>2016-01-13</td><td>397</td></tr><tr><td>2016-01-14</td><td>396</td></tr><tr><td>2016-01-15</td><td>391</td></tr><tr><td>2016-01-16</td><td>416</td></tr><tr><td>2016-01-17</td><td>411</td></tr><tr><td>2016-01-18</td><td>373</td></tr><tr><td>2016-01-19</td><td>360</td></tr><tr><td>2016-01-20</td><td>352</td></tr><tr><td>2016-01-21</td><td>440</td></tr><tr><td>2016-01-22</td><td>419</td></tr><tr><td>2016-01-23</td><td>78</td></tr><tr><td>2016-01-24</td><td>166</td></tr><tr><td>2016-01-25</td><td>265</td></tr><tr><td>2016-01-26</td><td>306</td></tr><tr><td>2016-01-27</td><td>344</td></tr><tr><td>2016-01-28</td><td>385</td></tr><tr><td>2016-01-29</td><td>368</td></tr><tr><td>2016-01-30</td><td>453</td></tr><tr><td>2016-01-31</td><td>354</td></tr><tr><td>2016-02-01</td><td>319</td></tr><tr><td>2016-02-02</td><td>318</td></tr><tr><td>2016-02-03</td><td>353</td></tr><tr><td>2016-02-04</td><td>397</td></tr><tr><td>2016-02-05</td><td>392</td></tr><tr><td>2016-02-06</td><td>436</td></tr><tr><td>2016-02-07</td><td>332</td></tr><tr><td>2016-02-08</td><td>337</td></tr><tr><td>2016-02-09</td><td>363</td></tr><tr><td>2016-02-10</td><td>374</td></tr><tr><td>2016-02-11</td><td>457</td></tr><tr><td>2016-02-12</td><td>430</td></tr><tr><td>2016-02-13</td><td>440</td></tr><tr><td>2016-02-14</td><td>375</td></tr><tr><td>2016-02-15</td><td>347</td></tr><tr><td>2016-02-16</td><td>348</td></tr><tr><td>2016-02-17</td><td>363</td></tr><tr><td>2016-02-18</td><td>421</td></tr><tr><td>2016-02-19</td><td>394</td></tr><tr><td>2016-02-20</td><td>414</td></tr><tr><td>2016-02-21</td><td>412</td></tr><tr><td>2016-02-22</td><td>325</td></tr><tr><td>2016-02-23</td><td>373</td></tr><tr><td>2016-02-24</td><td>404</td></tr><tr><td>2016-02-25</td><td>374</td></tr><tr><td>2016-02-26</td><td>453</td></tr><tr><td>2016-02-27</td><td>414</td></tr><tr><td>2016-02-28</td><td>366</td></tr><tr><td>2016-02-29</td><td>334</td></tr></tbody></table></div>"
      ]
     },
     "metadata": {
      "application/vnd.databricks.v1+output": {
       "addedWidgets": {},
       "aggData": [],
       "aggError": "",
       "aggOverflow": false,
       "aggSchema": [],
       "aggSeriesLimitReached": false,
       "aggType": "",
       "arguments": {},
       "columnCustomDisplayInfos": {},
       "data": [
        [
         "2016-01-01",
         326
        ],
        [
         "2016-01-02",
         338
        ],
        [
         "2016-01-03",
         276
        ],
        [
         "2016-01-04",
         325
        ],
        [
         "2016-01-05",
         359
        ],
        [
         "2016-01-06",
         360
        ],
        [
         "2016-01-07",
         356
        ],
        [
         "2016-01-08",
         390
        ],
        [
         "2016-01-09",
         412
        ],
        [
         "2016-01-10",
         347
        ],
        [
         "2016-01-11",
         347
        ],
        [
         "2016-01-12",
         357
        ],
        [
         "2016-01-13",
         397
        ],
        [
         "2016-01-14",
         396
        ],
        [
         "2016-01-15",
         391
        ],
        [
         "2016-01-16",
         416
        ],
        [
         "2016-01-17",
         411
        ],
        [
         "2016-01-18",
         373
        ],
        [
         "2016-01-19",
         360
        ],
        [
         "2016-01-20",
         352
        ],
        [
         "2016-01-21",
         440
        ],
        [
         "2016-01-22",
         419
        ],
        [
         "2016-01-23",
         78
        ],
        [
         "2016-01-24",
         166
        ],
        [
         "2016-01-25",
         265
        ],
        [
         "2016-01-26",
         306
        ],
        [
         "2016-01-27",
         344
        ],
        [
         "2016-01-28",
         385
        ],
        [
         "2016-01-29",
         368
        ],
        [
         "2016-01-30",
         453
        ],
        [
         "2016-01-31",
         354
        ],
        [
         "2016-02-01",
         319
        ],
        [
         "2016-02-02",
         318
        ],
        [
         "2016-02-03",
         353
        ],
        [
         "2016-02-04",
         397
        ],
        [
         "2016-02-05",
         392
        ],
        [
         "2016-02-06",
         436
        ],
        [
         "2016-02-07",
         332
        ],
        [
         "2016-02-08",
         337
        ],
        [
         "2016-02-09",
         363
        ],
        [
         "2016-02-10",
         374
        ],
        [
         "2016-02-11",
         457
        ],
        [
         "2016-02-12",
         430
        ],
        [
         "2016-02-13",
         440
        ],
        [
         "2016-02-14",
         375
        ],
        [
         "2016-02-15",
         347
        ],
        [
         "2016-02-16",
         348
        ],
        [
         "2016-02-17",
         363
        ],
        [
         "2016-02-18",
         421
        ],
        [
         "2016-02-19",
         394
        ],
        [
         "2016-02-20",
         414
        ],
        [
         "2016-02-21",
         412
        ],
        [
         "2016-02-22",
         325
        ],
        [
         "2016-02-23",
         373
        ],
        [
         "2016-02-24",
         404
        ],
        [
         "2016-02-25",
         374
        ],
        [
         "2016-02-26",
         453
        ],
        [
         "2016-02-27",
         414
        ],
        [
         "2016-02-28",
         366
        ],
        [
         "2016-02-29",
         334
        ]
       ],
       "datasetInfos": [],
       "dbfsResultPath": null,
       "isJsonSchema": true,
       "metadata": {},
       "overflow": false,
       "plotOptions": {
        "customPlotOptions": {},
        "displayType": "table",
        "pivotAggregation": null,
        "pivotColumns": null,
        "xColumns": null,
        "yColumns": null
       },
       "removedWidgets": [],
       "schema": [
        {
         "metadata": "{}",
         "name": "pickup_date",
         "type": "\"date\""
        },
        {
         "metadata": "{}",
         "name": "trip_count",
         "type": "\"long\""
        }
       ],
       "type": "table"
      }
     },
     "output_type": "display_data"
    },
    {
     "output_type": "display_data",
     "data": {
      "text/plain": [
       "Databricks visualization. Run in Databricks to view."
      ]
     },
     "metadata": {
      "application/vnd.databricks.v1.subcommand+json": {
       "baseErrorDetails": null,
       "bindings": {},
       "collapsed": false,
       "command": "%python\n__backend_agg_display_orig = display\n__backend_agg_dfs = []\ndef __backend_agg_display_new(df):\n    __backend_agg_df_modules = [\"pandas.core.frame\", \"databricks.koalas.frame\", \"pyspark.sql.dataframe\", \"pyspark.pandas.frame\", \"pyspark.sql.connect.dataframe\"]\n    if (type(df).__module__ in __backend_agg_df_modules and type(df).__name__ == 'DataFrame') or isinstance(df, list):\n        __backend_agg_dfs.append(df)\n\ndisplay = __backend_agg_display_new\n\ndef __backend_agg_user_code_fn():\n    import base64\n    exec(base64.standard_b64decode(\"ZnJvbSBweXNwYXJrLnNxbC5mdW5jdGlvbnMgaW1wb3J0IHRvX2RhdGUsIGNvdW50Cgp0cmlwc19kZi53aXRoQ29sdW1uKCJwaWNrdXBfZGF0ZSIsIHRvX2RhdGUoInRwZXBfcGlja3VwX2RhdGV0aW1lIikpLmdyb3VwQnkoInBpY2t1cF9kYXRlIikuYWdnKGNvdW50KCIqIikuYWxpYXMoInRyaXBfY291bnQiKSkub3JkZXJCeSgicGlja3VwX2RhdGUiKS5kaXNwbGF5KCk=\").decode())\n\ntry:\n    # run user code\n    __backend_agg_user_code_fn()\n\n    #reset display function\n    display = __backend_agg_display_orig\n\n    if len(__backend_agg_dfs) > 0:\n        # create a temp view\n        if type(__backend_agg_dfs[0]).__module__ == \"databricks.koalas.frame\":\n            # koalas dataframe\n            __backend_agg_dfs[0].to_spark().createOrReplaceTempView(\"DatabricksViewbc7cdca\")\n        elif type(__backend_agg_dfs[0]).__module__ == \"pandas.core.frame\" or isinstance(__backend_agg_dfs[0], list):\n            # pandas dataframe\n            spark.createDataFrame(__backend_agg_dfs[0]).createOrReplaceTempView(\"DatabricksViewbc7cdca\")\n        else:\n            __backend_agg_dfs[0].createOrReplaceTempView(\"DatabricksViewbc7cdca\")\n        #run backend agg\n        display(spark.sql(\"\"\"WITH q AS (select * from DatabricksViewbc7cdca) SELECT `pickup_date`,SUM(`trip_count`) `column_c5f41aa653` FROM q GROUP BY `pickup_date`\"\"\"))\n    else:\n        displayHTML(\"dataframe no longer exists. If you're using dataframe.display(), use display(dataframe) instead.\")\n\n\nfinally:\n    spark.sql(\"drop view if exists DatabricksViewbc7cdca\")\n    display = __backend_agg_display_orig\n    del __backend_agg_display_new\n    del __backend_agg_display_orig\n    del __backend_agg_dfs\n    del __backend_agg_user_code_fn\n\n",
       "commandTitle": "Visualization 1",
       "commandType": "auto",
       "commandVersion": 0,
       "commentThread": [],
       "commentsVisible": false,
       "contentSha256Hex": null,
       "customPlotOptions": {
        "redashChart": [
         {
          "key": "type",
          "value": "CHART"
         },
         {
          "key": "options",
          "value": {
           "alignYAxesAtZero": true,
           "coefficient": 1,
           "columnConfigurationMap": {
            "x": {
             "column": "pickup_date",
             "id": "column_c5f41aa652"
            },
            "y": [
             {
              "column": "trip_count",
              "id": "column_c5f41aa653",
              "transform": "SUM"
             }
            ]
           },
           "dateTimeFormat": "DD/MM/YYYY HH:mm",
           "direction": {
            "type": "counterclockwise"
           },
           "error_y": {
            "type": "data",
            "visible": true
           },
           "globalSeriesType": "line",
           "legend": {
            "traceorder": "normal"
           },
           "missingValuesAsZero": true,
           "numberFormat": "0,0.[00000]",
           "percentFormat": "0[.]00%",
           "series": {
            "error_y": {
             "type": "data",
             "visible": true
            },
            "stacking": null
           },
           "seriesOptions": {
            "column_c5f41aa653": {
             "name": "trip_count",
             "yAxis": 0
            }
           },
           "showDataLabels": false,
           "sizemode": "diameter",
           "sortX": true,
           "sortY": true,
           "swappedAxes": false,
           "textFormat": "",
           "useAggregationsUi": true,
           "valuesOptions": {},
           "version": 2,
           "xAxis": {
            "labels": {
             "enabled": true
            },
            "type": "-"
           },
           "yAxis": [
            {
             "type": "-"
            },
            {
             "opposite": true,
             "type": "-"
            }
           ]
          }
         }
        ]
       },
       "datasetPreviewNameToCmdIdMap": {},
       "diffDeletes": [],
       "diffInserts": [],
       "displayType": "redashChart",
       "error": null,
       "errorDetails": null,
       "errorSummary": null,
       "errorTraceType": null,
       "finishTime": 0,
       "globalVars": {},
       "guid": "",
       "height": "auto",
       "hideCommandCode": false,
       "hideCommandResult": false,
       "iPythonMetadata": null,
       "inputWidgets": {},
       "isLockedInExamMode": false,
       "latestUser": "a user",
       "latestUserId": null,
       "listResultMetadata": null,
       "metadata": {},
       "nuid": "cc37cb28-31a0-4c75-9193-fab5873fd668",
       "origId": 0,
       "parentHierarchy": [],
       "pivotAggregation": null,
       "pivotColumns": null,
       "position": 7.0,
       "resultDbfsErrorMessage": null,
       "resultDbfsStatus": "INLINED_IN_TREE",
       "results": null,
       "showCommandTitle": false,
       "startTime": 0,
       "state": "input",
       "streamStates": {},
       "subcommandOptions": {
        "queryPlan": {
         "groups": [
          {
           "column": "pickup_date",
           "type": "column"
          }
         ],
         "selects": [
          {
           "column": "pickup_date",
           "type": "column"
          },
          {
           "alias": "column_c5f41aa653",
           "args": [
            {
             "column": "trip_count",
             "type": "column"
            }
           ],
           "function": "SUM",
           "type": "function"
          }
         ]
        }
       },
       "submitTime": 0,
       "subtype": "tableResultSubCmd.visualization",
       "tableResultIndex": 0,
       "tableResultSettingsMap": {},
       "useConsistentColors": false,
       "version": "CommandV1",
       "width": "auto",
       "workflows": [],
       "xColumns": null,
       "yColumns": null
      }
     },
     "output_type": "display_data"
    }
   ],
   "source": [
    "from pyspark.sql.functions import to_date, count\n",
    "\n",
    "trips_df.withColumn(\"pickup_date\", to_date(\"tpep_pickup_datetime\")).groupBy(\"pickup_date\").agg(count(\"*\").alias(\"trip_count\")).orderBy(\"pickup_date\").display()"
   ]
  },
  {
   "cell_type": "code",
   "execution_count": 0,
   "metadata": {
    "application/vnd.databricks.v1+cell": {
     "cellMetadata": {
      "byteLimit": 2048000,
      "rowLimit": 10000
     },
     "inputWidgets": {},
     "nuid": "92e086b4-0c06-42dc-95f9-2509613b5f6e",
     "showTitle": false,
     "tableResultSettingsMap": {},
     "title": ""
    }
   },
   "outputs": [
    {
     "output_type": "display_data",
     "data": {
      "text/html": [
       "<style scoped>\n",
       "  .table-result-container {\n",
       "    max-height: 300px;\n",
       "    overflow: auto;\n",
       "  }\n",
       "  table, th, td {\n",
       "    border: 1px solid black;\n",
       "    border-collapse: collapse;\n",
       "  }\n",
       "  th, td {\n",
       "    padding: 5px;\n",
       "  }\n",
       "  th {\n",
       "    text-align: left;\n",
       "  }\n",
       "</style><div class='table-result-container'><table class='table-result'><thead style='background-color: white'><tr><th>dropoff_zip</th><th>trip_count</th></tr></thead><tbody><tr><td>11224</td><td>4</td></tr><tr><td>11236</td><td>9</td></tr><tr><td>11368</td><td>9</td></tr><tr><td>7201</td><td>1</td></tr><tr><td>11203</td><td>3</td></tr><tr><td>11412</td><td>4</td></tr><tr><td>10001</td><td>1069</td></tr><tr><td>11426</td><td>3</td></tr><tr><td>10021</td><td>1049</td></tr><tr><td>11233</td><td>22</td></tr><tr><td>11231</td><td>70</td></tr><tr><td>7302</td><td>1</td></tr><tr><td>10453</td><td>3</td></tr><tr><td>10027</td><td>133</td></tr><tr><td>10028</td><td>930</td></tr><tr><td>11416</td><td>5</td></tr><tr><td>11374</td><td>13</td></tr><tr><td>11370</td><td>15</td></tr><tr><td>11360</td><td>2</td></tr><tr><td>8876</td><td>1</td></tr><tr><td>11003</td><td>1</td></tr><tr><td>7002</td><td>2</td></tr><tr><td>7423</td><td>1</td></tr><tr><td>10023</td><td>855</td></tr><tr><td>10031</td><td>47</td></tr><tr><td>11364</td><td>2</td></tr><tr><td>10271</td><td>97</td></tr><tr><td>10022</td><td>483</td></tr><tr><td>11378</td><td>7</td></tr><tr><td>11096</td><td>1</td></tr><tr><td>11229</td><td>7</td></tr><tr><td>10199</td><td>632</td></tr><tr><td>11220</td><td>16</td></tr><tr><td>10006</td><td>133</td></tr><tr><td>10037</td><td>76</td></tr><tr><td>11201</td><td>138</td></tr><tr><td>7310</td><td>2</td></tr><tr><td>10502</td><td>1</td></tr><tr><td>11694</td><td>1</td></tr><tr><td>7974</td><td>1</td></tr><tr><td>7304</td><td>1</td></tr><tr><td>11223</td><td>4</td></tr><tr><td>11411</td><td>1</td></tr><tr><td>11356</td><td>2</td></tr><tr><td>10034</td><td>52</td></tr><tr><td>10305</td><td>1</td></tr><tr><td>10019</td><td>499</td></tr><tr><td>10002</td><td>488</td></tr><tr><td>10460</td><td>5</td></tr><tr><td>11206</td><td>69</td></tr><tr><td>11215</td><td>64</td></tr><tr><td>11418</td><td>2</td></tr><tr><td>10024</td><td>8</td></tr><tr><td>7114</td><td>29</td></tr><tr><td>7901</td><td>1</td></tr><tr><td>11430</td><td>7</td></tr><tr><td>10282</td><td>167</td></tr><tr><td>11235</td><td>5</td></tr><tr><td>11432</td><td>4</td></tr><tr><td>10020</td><td>435</td></tr><tr><td>11373</td><td>29</td></tr><tr><td>10167</td><td>239</td></tr><tr><td>11420</td><td>1</td></tr><tr><td>11435</td><td>7</td></tr><tr><td>11213</td><td>12</td></tr><tr><td>11218</td><td>24</td></tr><tr><td>10601</td><td>1</td></tr><tr><td>11237</td><td>49</td></tr><tr><td>10007</td><td>113</td></tr><tr><td>11417</td><td>4</td></tr><tr><td>11580</td><td>1</td></tr><tr><td>10469</td><td>4</td></tr><tr><td>10710</td><td>1</td></tr><tr><td>10474</td><td>6</td></tr><tr><td>7086</td><td>1</td></tr><tr><td>11109</td><td>46</td></tr><tr><td>10038</td><td>62</td></tr><tr><td>10550</td><td>1</td></tr><tr><td>11363</td><td>1</td></tr><tr><td>10471</td><td>3</td></tr><tr><td>10455</td><td>4</td></tr><tr><td>10065</td><td>569</td></tr><tr><td>11207</td><td>6</td></tr><tr><td>11351</td><td>1</td></tr><tr><td>10705</td><td>1</td></tr><tr><td>10012</td><td>769</td></tr><tr><td>11358</td><td>2</td></tr><tr><td>11209</td><td>16</td></tr><tr><td>10470</td><td>4</td></tr><tr><td>10115</td><td>43</td></tr><tr><td>10463</td><td>10</td></tr><tr><td>10459</td><td>4</td></tr><tr><td>11433</td><td>1</td></tr><tr><td>11106</td><td>61</td></tr><tr><td>11216</td><td>48</td></tr><tr><td>11101</td><td>26</td></tr><tr><td>11225</td><td>20</td></tr><tr><td>11357</td><td>1</td></tr><tr><td>11371</td><td>222</td></tr><tr><td>11423</td><td>3</td></tr><tr><td>11434</td><td>3</td></tr><tr><td>11226</td><td>17</td></tr><tr><td>10606</td><td>1</td></tr><tr><td>10119</td><td>481</td></tr><tr><td>10451</td><td>12</td></tr><tr><td>11385</td><td>5</td></tr><tr><td>11042</td><td>1</td></tr><tr><td>10016</td><td>226</td></tr><tr><td>10465</td><td>3</td></tr><tr><td>10473</td><td>2</td></tr><tr><td>10014</td><td>453</td></tr><tr><td>10044</td><td>470</td></tr><tr><td>11222</td><td>91</td></tr><tr><td>11355</td><td>7</td></tr><tr><td>10162</td><td>427</td></tr><tr><td>10301</td><td>1</td></tr><tr><td>11354</td><td>5</td></tr><tr><td>10466</td><td>2</td></tr><tr><td>10017</td><td>719</td></tr><tr><td>11211</td><td>201</td></tr><tr><td>10032</td><td>75</td></tr><tr><td>11212</td><td>5</td></tr><tr><td>7758</td><td>1</td></tr><tr><td>10013</td><td>285</td></tr><tr><td>11228</td><td>4</td></tr><tr><td>11366</td><td>6</td></tr><tr><td>11598</td><td>2</td></tr><tr><td>10456</td><td>4</td></tr><tr><td>10452</td><td>14</td></tr><tr><td>11001</td><td>2</td></tr><tr><td>11365</td><td>1</td></tr><tr><td>10458</td><td>2</td></tr><tr><td>10112</td><td>46</td></tr><tr><td>10103</td><td>474</td></tr><tr><td>11436</td><td>16</td></tr><tr><td>11208</td><td>1</td></tr><tr><td>11234</td><td>2</td></tr><tr><td>10472</td><td>6</td></tr><tr><td>7024</td><td>2</td></tr><tr><td>11105</td><td>39</td></tr><tr><td>10703</td><td>1</td></tr><tr><td>11419</td><td>4</td></tr><tr><td>10069</td><td>188</td></tr><tr><td>10011</td><td>940</td></tr><tr><td>11421</td><td>2</td></tr><tr><td>7008</td><td>1</td></tr><tr><td>11050</td><td>1</td></tr><tr><td>10152</td><td>110</td></tr><tr><td>10111</td><td>168</td></tr><tr><td>10461</td><td>1</td></tr><tr><td>7737</td><td>1</td></tr><tr><td>10003</td><td>930</td></tr><tr><td>7030</td><td>4</td></tr><tr><td>11413</td><td>1</td></tr><tr><td>10029</td><td>324</td></tr><tr><td>11214</td><td>4</td></tr><tr><td>10280</td><td>91</td></tr><tr><td>10005</td><td>103</td></tr><tr><td>10110</td><td>774</td></tr><tr><td>11205</td><td>71</td></tr><tr><td>10026</td><td>160</td></tr><tr><td>11103</td><td>79</td></tr><tr><td>10475</td><td>3</td></tr><tr><td>11238</td><td>82</td></tr><tr><td>10306</td><td>1</td></tr><tr><td>10278</td><td>160</td></tr><tr><td>11575</td><td>1</td></tr><tr><td>11219</td><td>5</td></tr><tr><td>10025</td><td>294</td></tr><tr><td>10454</td><td>13</td></tr><tr><td>10153</td><td>392</td></tr><tr><td>11375</td><td>22</td></tr><tr><td>10464</td><td>1</td></tr><tr><td>11369</td><td>9</td></tr><tr><td>10171</td><td>213</td></tr><tr><td>11377</td><td>43</td></tr><tr><td>11427</td><td>4</td></tr><tr><td>10009</td><td>753</td></tr><tr><td>10803</td><td>2</td></tr><tr><td>10035</td><td>79</td></tr><tr><td>10154</td><td>214</td></tr><tr><td>10030</td><td>65</td></tr><tr><td>10467</td><td>2</td></tr><tr><td>11379</td><td>10</td></tr><tr><td>11691</td><td>1</td></tr><tr><td>10468</td><td>14</td></tr><tr><td>11104</td><td>44</td></tr><tr><td>11221</td><td>33</td></tr><tr><td>11422</td><td>159</td></tr><tr><td>11424</td><td>7</td></tr><tr><td>11010</td><td>1</td></tr><tr><td>7311</td><td>3</td></tr><tr><td>11210</td><td>7</td></tr><tr><td>10457</td><td>1</td></tr><tr><td>11372</td><td>35</td></tr><tr><td>11204</td><td>5</td></tr><tr><td>11415</td><td>2</td></tr><tr><td>11102</td><td>90</td></tr><tr><td>10039</td><td>37</td></tr><tr><td>11230</td><td>9</td></tr><tr><td>11367</td><td>6</td></tr><tr><td>10462</td><td>3</td></tr><tr><td>7087</td><td>1</td></tr><tr><td>10018</td><td>828</td></tr><tr><td>11217</td><td>97</td></tr></tbody></table></div>"
      ]
     },
     "metadata": {
      "application/vnd.databricks.v1+output": {
       "addedWidgets": {},
       "aggData": [],
       "aggError": "",
       "aggOverflow": false,
       "aggSchema": [],
       "aggSeriesLimitReached": false,
       "aggType": "",
       "arguments": {},
       "columnCustomDisplayInfos": {},
       "data": [
        [
         11224,
         4
        ],
        [
         11236,
         9
        ],
        [
         11368,
         9
        ],
        [
         7201,
         1
        ],
        [
         11203,
         3
        ],
        [
         11412,
         4
        ],
        [
         10001,
         1069
        ],
        [
         11426,
         3
        ],
        [
         10021,
         1049
        ],
        [
         11233,
         22
        ],
        [
         11231,
         70
        ],
        [
         7302,
         1
        ],
        [
         10453,
         3
        ],
        [
         10027,
         133
        ],
        [
         10028,
         930
        ],
        [
         11416,
         5
        ],
        [
         11374,
         13
        ],
        [
         11370,
         15
        ],
        [
         11360,
         2
        ],
        [
         8876,
         1
        ],
        [
         11003,
         1
        ],
        [
         7002,
         2
        ],
        [
         7423,
         1
        ],
        [
         10023,
         855
        ],
        [
         10031,
         47
        ],
        [
         11364,
         2
        ],
        [
         10271,
         97
        ],
        [
         10022,
         483
        ],
        [
         11378,
         7
        ],
        [
         11096,
         1
        ],
        [
         11229,
         7
        ],
        [
         10199,
         632
        ],
        [
         11220,
         16
        ],
        [
         10006,
         133
        ],
        [
         10037,
         76
        ],
        [
         11201,
         138
        ],
        [
         7310,
         2
        ],
        [
         10502,
         1
        ],
        [
         11694,
         1
        ],
        [
         7974,
         1
        ],
        [
         7304,
         1
        ],
        [
         11223,
         4
        ],
        [
         11411,
         1
        ],
        [
         11356,
         2
        ],
        [
         10034,
         52
        ],
        [
         10305,
         1
        ],
        [
         10019,
         499
        ],
        [
         10002,
         488
        ],
        [
         10460,
         5
        ],
        [
         11206,
         69
        ],
        [
         11215,
         64
        ],
        [
         11418,
         2
        ],
        [
         10024,
         8
        ],
        [
         7114,
         29
        ],
        [
         7901,
         1
        ],
        [
         11430,
         7
        ],
        [
         10282,
         167
        ],
        [
         11235,
         5
        ],
        [
         11432,
         4
        ],
        [
         10020,
         435
        ],
        [
         11373,
         29
        ],
        [
         10167,
         239
        ],
        [
         11420,
         1
        ],
        [
         11435,
         7
        ],
        [
         11213,
         12
        ],
        [
         11218,
         24
        ],
        [
         10601,
         1
        ],
        [
         11237,
         49
        ],
        [
         10007,
         113
        ],
        [
         11417,
         4
        ],
        [
         11580,
         1
        ],
        [
         10469,
         4
        ],
        [
         10710,
         1
        ],
        [
         10474,
         6
        ],
        [
         7086,
         1
        ],
        [
         11109,
         46
        ],
        [
         10038,
         62
        ],
        [
         10550,
         1
        ],
        [
         11363,
         1
        ],
        [
         10471,
         3
        ],
        [
         10455,
         4
        ],
        [
         10065,
         569
        ],
        [
         11207,
         6
        ],
        [
         11351,
         1
        ],
        [
         10705,
         1
        ],
        [
         10012,
         769
        ],
        [
         11358,
         2
        ],
        [
         11209,
         16
        ],
        [
         10470,
         4
        ],
        [
         10115,
         43
        ],
        [
         10463,
         10
        ],
        [
         10459,
         4
        ],
        [
         11433,
         1
        ],
        [
         11106,
         61
        ],
        [
         11216,
         48
        ],
        [
         11101,
         26
        ],
        [
         11225,
         20
        ],
        [
         11357,
         1
        ],
        [
         11371,
         222
        ],
        [
         11423,
         3
        ],
        [
         11434,
         3
        ],
        [
         11226,
         17
        ],
        [
         10606,
         1
        ],
        [
         10119,
         481
        ],
        [
         10451,
         12
        ],
        [
         11385,
         5
        ],
        [
         11042,
         1
        ],
        [
         10016,
         226
        ],
        [
         10465,
         3
        ],
        [
         10473,
         2
        ],
        [
         10014,
         453
        ],
        [
         10044,
         470
        ],
        [
         11222,
         91
        ],
        [
         11355,
         7
        ],
        [
         10162,
         427
        ],
        [
         10301,
         1
        ],
        [
         11354,
         5
        ],
        [
         10466,
         2
        ],
        [
         10017,
         719
        ],
        [
         11211,
         201
        ],
        [
         10032,
         75
        ],
        [
         11212,
         5
        ],
        [
         7758,
         1
        ],
        [
         10013,
         285
        ],
        [
         11228,
         4
        ],
        [
         11366,
         6
        ],
        [
         11598,
         2
        ],
        [
         10456,
         4
        ],
        [
         10452,
         14
        ],
        [
         11001,
         2
        ],
        [
         11365,
         1
        ],
        [
         10458,
         2
        ],
        [
         10112,
         46
        ],
        [
         10103,
         474
        ],
        [
         11436,
         16
        ],
        [
         11208,
         1
        ],
        [
         11234,
         2
        ],
        [
         10472,
         6
        ],
        [
         7024,
         2
        ],
        [
         11105,
         39
        ],
        [
         10703,
         1
        ],
        [
         11419,
         4
        ],
        [
         10069,
         188
        ],
        [
         10011,
         940
        ],
        [
         11421,
         2
        ],
        [
         7008,
         1
        ],
        [
         11050,
         1
        ],
        [
         10152,
         110
        ],
        [
         10111,
         168
        ],
        [
         10461,
         1
        ],
        [
         7737,
         1
        ],
        [
         10003,
         930
        ],
        [
         7030,
         4
        ],
        [
         11413,
         1
        ],
        [
         10029,
         324
        ],
        [
         11214,
         4
        ],
        [
         10280,
         91
        ],
        [
         10005,
         103
        ],
        [
         10110,
         774
        ],
        [
         11205,
         71
        ],
        [
         10026,
         160
        ],
        [
         11103,
         79
        ],
        [
         10475,
         3
        ],
        [
         11238,
         82
        ],
        [
         10306,
         1
        ],
        [
         10278,
         160
        ],
        [
         11575,
         1
        ],
        [
         11219,
         5
        ],
        [
         10025,
         294
        ],
        [
         10454,
         13
        ],
        [
         10153,
         392
        ],
        [
         11375,
         22
        ],
        [
         10464,
         1
        ],
        [
         11369,
         9
        ],
        [
         10171,
         213
        ],
        [
         11377,
         43
        ],
        [
         11427,
         4
        ],
        [
         10009,
         753
        ],
        [
         10803,
         2
        ],
        [
         10035,
         79
        ],
        [
         10154,
         214
        ],
        [
         10030,
         65
        ],
        [
         10467,
         2
        ],
        [
         11379,
         10
        ],
        [
         11691,
         1
        ],
        [
         10468,
         14
        ],
        [
         11104,
         44
        ],
        [
         11221,
         33
        ],
        [
         11422,
         159
        ],
        [
         11424,
         7
        ],
        [
         11010,
         1
        ],
        [
         7311,
         3
        ],
        [
         11210,
         7
        ],
        [
         10457,
         1
        ],
        [
         11372,
         35
        ],
        [
         11204,
         5
        ],
        [
         11415,
         2
        ],
        [
         11102,
         90
        ],
        [
         10039,
         37
        ],
        [
         11230,
         9
        ],
        [
         11367,
         6
        ],
        [
         10462,
         3
        ],
        [
         7087,
         1
        ],
        [
         10018,
         828
        ],
        [
         11217,
         97
        ]
       ],
       "datasetInfos": [],
       "dbfsResultPath": null,
       "isJsonSchema": true,
       "metadata": {},
       "overflow": false,
       "plotOptions": {
        "customPlotOptions": {},
        "displayType": "table",
        "pivotAggregation": null,
        "pivotColumns": null,
        "xColumns": null,
        "yColumns": null
       },
       "removedWidgets": [],
       "schema": [
        {
         "metadata": "{}",
         "name": "dropoff_zip",
         "type": "\"integer\""
        },
        {
         "metadata": "{}",
         "name": "trip_count",
         "type": "\"long\""
        }
       ],
       "type": "table"
      }
     },
     "output_type": "display_data"
    },
    {
     "output_type": "display_data",
     "data": {
      "text/plain": [
       "Databricks visualization. Run in Databricks to view."
      ]
     },
     "metadata": {
      "application/vnd.databricks.v1.subcommand+json": {
       "baseErrorDetails": null,
       "bindings": {},
       "collapsed": false,
       "command": "%python\n__backend_agg_display_orig = display\n__backend_agg_dfs = []\ndef __backend_agg_display_new(df):\n    __backend_agg_df_modules = [\"pandas.core.frame\", \"databricks.koalas.frame\", \"pyspark.sql.dataframe\", \"pyspark.pandas.frame\", \"pyspark.sql.connect.dataframe\"]\n    if (type(df).__module__ in __backend_agg_df_modules and type(df).__name__ == 'DataFrame') or isinstance(df, list):\n        __backend_agg_dfs.append(df)\n\ndisplay = __backend_agg_display_new\n\ndef __backend_agg_user_code_fn():\n    import base64\n    exec(base64.standard_b64decode(\"dHJpcHNfZGYuZ3JvdXBCeSgiZHJvcG9mZl96aXAiKS5hZ2coY291bnQoIioiKS5hbGlhcygidHJpcF9jb3VudCIpKS5kaXNwbGF5KCkK\").decode())\n\ntry:\n    # run user code\n    __backend_agg_user_code_fn()\n\n    #reset display function\n    display = __backend_agg_display_orig\n\n    if len(__backend_agg_dfs) > 0:\n        # create a temp view\n        if type(__backend_agg_dfs[0]).__module__ == \"databricks.koalas.frame\":\n            # koalas dataframe\n            __backend_agg_dfs[0].to_spark().createOrReplaceTempView(\"DatabricksView33e539e\")\n        elif type(__backend_agg_dfs[0]).__module__ == \"pandas.core.frame\" or isinstance(__backend_agg_dfs[0], list):\n            # pandas dataframe\n            spark.createDataFrame(__backend_agg_dfs[0]).createOrReplaceTempView(\"DatabricksView33e539e\")\n        else:\n            __backend_agg_dfs[0].createOrReplaceTempView(\"DatabricksView33e539e\")\n        #run backend agg\n        display(spark.sql(\"\"\"WITH q AS (select * from DatabricksView33e539e) SELECT `dropoff_zip`,SUM(`trip_count`) `column_c5f41aa657` FROM q GROUP BY `dropoff_zip`\"\"\"))\n    else:\n        displayHTML(\"dataframe no longer exists. If you're using dataframe.display(), use display(dataframe) instead.\")\n\n\nfinally:\n    spark.sql(\"drop view if exists DatabricksView33e539e\")\n    display = __backend_agg_display_orig\n    del __backend_agg_display_new\n    del __backend_agg_display_orig\n    del __backend_agg_dfs\n    del __backend_agg_user_code_fn\n\n",
       "commandTitle": "Visualization 1",
       "commandType": "auto",
       "commandVersion": 0,
       "commentThread": [],
       "commentsVisible": false,
       "contentSha256Hex": null,
       "customPlotOptions": {
        "redashChart": [
         {
          "key": "type",
          "value": "CHART"
         },
         {
          "key": "options",
          "value": {
           "alignYAxesAtZero": true,
           "coefficient": 1,
           "columnConfigurationMap": {
            "x": {
             "column": "dropoff_zip",
             "id": "column_c5f41aa656"
            },
            "y": [
             {
              "column": "trip_count",
              "id": "column_c5f41aa657",
              "transform": "SUM"
             }
            ]
           },
           "dateTimeFormat": "DD/MM/YYYY HH:mm",
           "direction": {
            "type": "counterclockwise"
           },
           "error_y": {
            "type": "data",
            "visible": true
           },
           "globalSeriesType": "pie",
           "isAggregationOn": true,
           "legend": {
            "traceorder": "normal"
           },
           "missingValuesAsZero": true,
           "numberFormat": "0,0.[00000]",
           "percentFormat": "0[.]00%",
           "series": {
            "error_y": {
             "type": "data",
             "visible": true
            },
            "stacking": null
           },
           "seriesOptions": {
            "column_c5f41aa657": {
             "name": "trip_count",
             "type": "pie",
             "yAxis": 0
            }
           },
           "showDataLabels": true,
           "sizemode": "diameter",
           "sortX": true,
           "sortY": true,
           "swappedAxes": false,
           "textFormat": "",
           "useAggregationsUi": true,
           "valuesOptions": {},
           "version": 2,
           "xAxis": {
            "labels": {
             "enabled": true
            },
            "type": "-"
           },
           "yAxis": [
            {
             "type": "-"
            },
            {
             "opposite": true,
             "type": "-"
            }
           ]
          }
         }
        ]
       },
       "datasetPreviewNameToCmdIdMap": {},
       "diffDeletes": [],
       "diffInserts": [],
       "displayType": "redashChart",
       "error": null,
       "errorDetails": null,
       "errorSummary": null,
       "errorTraceType": null,
       "finishTime": 0,
       "globalVars": {},
       "guid": "",
       "height": "auto",
       "hideCommandCode": false,
       "hideCommandResult": false,
       "iPythonMetadata": null,
       "inputWidgets": {},
       "isLockedInExamMode": false,
       "latestUser": "a user",
       "latestUserId": null,
       "listResultMetadata": null,
       "metadata": {},
       "nuid": "50d668f4-7601-40ca-870b-30a4ed88b62e",
       "origId": 0,
       "parentHierarchy": [],
       "pivotAggregation": null,
       "pivotColumns": null,
       "position": 8.0,
       "resultDbfsErrorMessage": null,
       "resultDbfsStatus": "INLINED_IN_TREE",
       "results": null,
       "showCommandTitle": false,
       "startTime": 0,
       "state": "input",
       "streamStates": {},
       "subcommandOptions": {
        "queryPlan": {
         "groups": [
          {
           "column": "dropoff_zip",
           "type": "column"
          }
         ],
         "selects": [
          {
           "column": "dropoff_zip",
           "type": "column"
          },
          {
           "alias": "column_c5f41aa657",
           "args": [
            {
             "column": "trip_count",
             "type": "column"
            }
           ],
           "function": "SUM",
           "type": "function"
          }
         ]
        }
       },
       "submitTime": 0,
       "subtype": "tableResultSubCmd.visualization",
       "tableResultIndex": 0,
       "tableResultSettingsMap": {},
       "useConsistentColors": false,
       "version": "CommandV1",
       "width": "auto",
       "workflows": [],
       "xColumns": null,
       "yColumns": null
      }
     },
     "output_type": "display_data"
    }
   ],
   "source": [
    "trips_df.groupBy(\"dropoff_zip\").agg(count(\"*\").alias(\"trip_count\")).display()\n"
   ]
  },
  {
   "cell_type": "code",
   "execution_count": 0,
   "metadata": {
    "application/vnd.databricks.v1+cell": {
     "cellMetadata": {
      "byteLimit": 2048000,
      "rowLimit": 10000
     },
     "inputWidgets": {},
     "nuid": "e2deb286-e74c-45cd-a581-ddd51b4e9862",
     "showTitle": false,
     "tableResultSettingsMap": {},
     "title": ""
    }
   },
   "outputs": [
    {
     "output_type": "display_data",
     "data": {
      "text/html": [
       "<style scoped>\n",
       "  .table-result-container {\n",
       "    max-height: 300px;\n",
       "    overflow: auto;\n",
       "  }\n",
       "  table, th, td {\n",
       "    border: 1px solid black;\n",
       "    border-collapse: collapse;\n",
       "  }\n",
       "  th, td {\n",
       "    padding: 5px;\n",
       "  }\n",
       "  th {\n",
       "    text-align: left;\n",
       "  }\n",
       "</style><div class='table-result-container'><table class='table-result'><thead style='background-color: white'><tr><th>dropoff_zip</th><th>avg_distance</th></tr></thead><tbody><tr><td>11224</td><td>9.252500000000001</td></tr><tr><td>11236</td><td>13.132222222222225</td></tr><tr><td>11368</td><td>6.932222222222223</td></tr><tr><td>7201</td><td>13.0</td></tr><tr><td>11203</td><td>8.953333333333333</td></tr><tr><td>11412</td><td>12.09</td></tr><tr><td>10001</td><td>1.982376052385405</td></tr><tr><td>11426</td><td>11.413333333333334</td></tr><tr><td>10021</td><td>1.8008674928503354</td></tr><tr><td>11233</td><td>6.684090909090909</td></tr><tr><td>11231</td><td>5.860857142857143</td></tr><tr><td>7302</td><td>3.51</td></tr><tr><td>10453</td><td>5.3</td></tr><tr><td>10027</td><td>2.876992481203008</td></tr><tr><td>10028</td><td>2.1929569892473126</td></tr><tr><td>11416</td><td>11.068</td></tr><tr><td>11374</td><td>9.036153846153848</td></tr><tr><td>11370</td><td>8.931999999999999</td></tr><tr><td>11360</td><td>15.600000000000001</td></tr><tr><td>8876</td><td>0.0</td></tr><tr><td>11003</td><td>0.5</td></tr><tr><td>7002</td><td>1.595</td></tr><tr><td>7423</td><td>24.49</td></tr><tr><td>10023</td><td>2.1275789473684235</td></tr><tr><td>10031</td><td>5.429148936170211</td></tr><tr><td>11364</td><td>12.1</td></tr><tr><td>10271</td><td>3.7867010309278353</td></tr><tr><td>10022</td><td>1.958902691511388</td></tr><tr><td>11378</td><td>3.1971428571428575</td></tr><tr><td>11096</td><td>7.1</td></tr><tr><td>11229</td><td>14.344285714285714</td></tr><tr><td>10199</td><td>1.8887183544303785</td></tr><tr><td>11220</td><td>9.346250000000001</td></tr><tr><td>10006</td><td>3.7511278195488713</td></tr><tr><td>10037</td><td>3.626052631578947</td></tr><tr><td>11201</td><td>4.975652173913042</td></tr><tr><td>7310</td><td>8.095</td></tr><tr><td>10502</td><td>25.0</td></tr><tr><td>11694</td><td>24.7</td></tr><tr><td>7974</td><td>0.0</td></tr><tr><td>7304</td><td>13.37</td></tr><tr><td>11223</td><td>15.889999999999999</td></tr><tr><td>11411</td><td>20.83</td></tr><tr><td>11356</td><td>8.45</td></tr><tr><td>10034</td><td>8.176538461538462</td></tr><tr><td>10305</td><td>2.0</td></tr><tr><td>10019</td><td>2.236993987975951</td></tr><tr><td>10002</td><td>2.5152868852459016</td></tr><tr><td>10460</td><td>9.396</td></tr><tr><td>11206</td><td>4.106956521739131</td></tr><tr><td>11215</td><td>6.36421875</td></tr><tr><td>11418</td><td>6.58</td></tr><tr><td>10024</td><td>5.038750000000001</td></tr><tr><td>7114</td><td>16.710000000000004</td></tr><tr><td>7901</td><td>25.46</td></tr><tr><td>11430</td><td>13.552857142857144</td></tr><tr><td>10282</td><td>3.7647305389221564</td></tr><tr><td>11235</td><td>12.044</td></tr><tr><td>11432</td><td>9.2075</td></tr><tr><td>10020</td><td>2.457241379310342</td></tr><tr><td>11373</td><td>5.929999999999999</td></tr><tr><td>10167</td><td>2.071255230125523</td></tr><tr><td>11420</td><td>14.7</td></tr><tr><td>11435</td><td>8.048571428571428</td></tr><tr><td>11213</td><td>7.703333333333334</td></tr><tr><td>11218</td><td>9.06875</td></tr><tr><td>10601</td><td>24.5</td></tr><tr><td>11237</td><td>5.435714285714284</td></tr><tr><td>10007</td><td>3.0133628318584074</td></tr><tr><td>11417</td><td>9.502500000000001</td></tr><tr><td>11580</td><td>17.4</td></tr><tr><td>10469</td><td>12.2625</td></tr><tr><td>10710</td><td>19.02</td></tr><tr><td>10474</td><td>6.653333333333333</td></tr><tr><td>7086</td><td>0.0</td></tr><tr><td>11109</td><td>5.135434782608698</td></tr><tr><td>10038</td><td>3.2946774193548394</td></tr><tr><td>10550</td><td>15.55</td></tr><tr><td>11363</td><td>17.42</td></tr><tr><td>10471</td><td>9.6</td></tr><tr><td>10455</td><td>4.765</td></tr><tr><td>10065</td><td>1.864024604569419</td></tr><tr><td>11207</td><td>7.54</td></tr><tr><td>11351</td><td>6.15</td></tr><tr><td>10705</td><td>16.3</td></tr><tr><td>10012</td><td>2.218036410923277</td></tr><tr><td>11358</td><td>7.825</td></tr><tr><td>11209</td><td>12.523750000000001</td></tr><tr><td>10470</td><td>13.752499999999998</td></tr><tr><td>10115</td><td>3.129767441860465</td></tr><tr><td>10463</td><td>13.663999999999998</td></tr><tr><td>10459</td><td>6.3225</td></tr><tr><td>11433</td><td>4.4</td></tr><tr><td>11106</td><td>3.1637704918032785</td></tr><tr><td>11216</td><td>5.410833333333332</td></tr><tr><td>11101</td><td>2.4826923076923064</td></tr><tr><td>11225</td><td>6.683000000000002</td></tr><tr><td>11357</td><td>14.75</td></tr><tr><td>11371</td><td>10.22130630630631</td></tr><tr><td>11423</td><td>9.889999999999999</td></tr><tr><td>11434</td><td>11.266666666666666</td></tr><tr><td>11226</td><td>9.775294117647059</td></tr><tr><td>10606</td><td>26.3</td></tr><tr><td>10119</td><td>1.858128898128897</td></tr><tr><td>10451</td><td>4.973333333333334</td></tr><tr><td>11385</td><td>7.947999999999999</td></tr><tr><td>11042</td><td>21.3</td></tr><tr><td>10016</td><td>1.7722123893805315</td></tr><tr><td>10465</td><td>13.336666666666666</td></tr><tr><td>10473</td><td>7.1</td></tr><tr><td>10014</td><td>1.9844370860927143</td></tr><tr><td>10044</td><td>2.656340425531917</td></tr><tr><td>11222</td><td>5.182087912087913</td></tr><tr><td>11355</td><td>10.098571428571429</td></tr><tr><td>10162</td><td>2.1668618266978923</td></tr><tr><td>10301</td><td>17.21</td></tr><tr><td>11354</td><td>11.559999999999999</td></tr><tr><td>10466</td><td>14.3</td></tr><tr><td>10017</td><td>2.19663421418637</td></tr><tr><td>11211</td><td>5.173283582089553</td></tr><tr><td>10032</td><td>7.183466666666665</td></tr><tr><td>11212</td><td>6.078</td></tr><tr><td>7758</td><td>2.92</td></tr><tr><td>10013</td><td>2.8272631578947363</td></tr><tr><td>11228</td><td>12.0975</td></tr><tr><td>11366</td><td>10.561666666666667</td></tr><tr><td>11598</td><td>7.43</td></tr><tr><td>10456</td><td>3.6675000000000004</td></tr><tr><td>10452</td><td>7.174285714285715</td></tr><tr><td>11001</td><td>10.030000000000001</td></tr><tr><td>11365</td><td>14.16</td></tr><tr><td>10458</td><td>12.265</td></tr><tr><td>10112</td><td>1.668913043478261</td></tr><tr><td>10103</td><td>2.332172995780591</td></tr><tr><td>11436</td><td>9.104375000000001</td></tr><tr><td>11208</td><td>17.5</td></tr><tr><td>11234</td><td>16.27</td></tr><tr><td>10472</td><td>9.588333333333331</td></tr><tr><td>7024</td><td>8.49</td></tr><tr><td>11105</td><td>5.974102564102562</td></tr><tr><td>10703</td><td>20.9</td></tr><tr><td>11419</td><td>5.09</td></tr><tr><td>10069</td><td>2.3524999999999996</td></tr><tr><td>10011</td><td>1.8878191489361706</td></tr><tr><td>11421</td><td>12.7</td></tr><tr><td>7008</td><td>20.85</td></tr><tr><td>11050</td><td>25.55</td></tr><tr><td>10152</td><td>1.9726363636363637</td></tr><tr><td>10111</td><td>2.0211309523809495</td></tr><tr><td>10461</td><td>13.8</td></tr><tr><td>7737</td><td>0.8</td></tr><tr><td>10003</td><td>1.9683763440860227</td></tr><tr><td>7030</td><td>9.315</td></tr><tr><td>11413</td><td>5.7</td></tr><tr><td>10029</td><td>2.460864197530866</td></tr><tr><td>11214</td><td>14.837500000000002</td></tr><tr><td>10280</td><td>3.63065934065934</td></tr><tr><td>10005</td><td>4.005242718446602</td></tr><tr><td>10110</td><td>1.9196899224806194</td></tr><tr><td>11205</td><td>4.4792957746478885</td></tr><tr><td>10026</td><td>3.657749999999999</td></tr><tr><td>11103</td><td>4.728227848101266</td></tr><tr><td>10475</td><td>15.516666666666666</td></tr><tr><td>11238</td><td>5.928048780487804</td></tr><tr><td>10306</td><td>18.47</td></tr><tr><td>10278</td><td>2.3829375</td></tr><tr><td>11575</td><td>24.4</td></tr><tr><td>11219</td><td>10.342</td></tr><tr><td>10025</td><td>2.756462585034013</td></tr><tr><td>10454</td><td>3.232307692307692</td></tr><tr><td>10153</td><td>2.0469132653061237</td></tr><tr><td>11375</td><td>8.955454545454545</td></tr><tr><td>10464</td><td>17.84</td></tr><tr><td>11369</td><td>5.775555555555556</td></tr><tr><td>10171</td><td>2.4260093896713615</td></tr><tr><td>11377</td><td>4.796744186046513</td></tr><tr><td>11427</td><td>13.175</td></tr><tr><td>10009</td><td>2.082828685258967</td></tr><tr><td>10803</td><td>16.365</td></tr><tr><td>10035</td><td>3.429746835443038</td></tr><tr><td>10154</td><td>2.228971962616823</td></tr><tr><td>10030</td><td>4.567692307692307</td></tr><tr><td>10467</td><td>7.9750000000000005</td></tr><tr><td>11379</td><td>7.144999999999999</td></tr><tr><td>11691</td><td>9.88</td></tr><tr><td>10468</td><td>12.721428571428572</td></tr><tr><td>11104</td><td>5.008863636363636</td></tr><tr><td>11221</td><td>5.366969696969697</td></tr><tr><td>11422</td><td>15.81522012578618</td></tr><tr><td>11424</td><td>10.131428571428572</td></tr><tr><td>11010</td><td>15.99</td></tr><tr><td>7311</td><td>4.466666666666667</td></tr><tr><td>11210</td><td>11.474285714285715</td></tr><tr><td>10457</td><td>11.22</td></tr><tr><td>11372</td><td>5.364285714285714</td></tr><tr><td>11204</td><td>12.502</td></tr><tr><td>11415</td><td>6.5649999999999995</td></tr><tr><td>11102</td><td>4.664222222222222</td></tr><tr><td>10039</td><td>5.924594594594597</td></tr><tr><td>11230</td><td>9.747777777777777</td></tr><tr><td>11367</td><td>7.4366666666666665</td></tr><tr><td>10462</td><td>10.263333333333334</td></tr><tr><td>7087</td><td>4.9</td></tr><tr><td>10018</td><td>2.237234299516909</td></tr><tr><td>11217</td><td>4.579484536082474</td></tr></tbody></table></div>"
      ]
     },
     "metadata": {
      "application/vnd.databricks.v1+output": {
       "addedWidgets": {},
       "aggData": [],
       "aggError": "",
       "aggOverflow": false,
       "aggSchema": [],
       "aggSeriesLimitReached": false,
       "aggType": "",
       "arguments": {},
       "columnCustomDisplayInfos": {},
       "data": [
        [
         11224,
         9.252500000000001
        ],
        [
         11236,
         13.132222222222225
        ],
        [
         11368,
         6.932222222222223
        ],
        [
         7201,
         13.0
        ],
        [
         11203,
         8.953333333333333
        ],
        [
         11412,
         12.09
        ],
        [
         10001,
         1.982376052385405
        ],
        [
         11426,
         11.413333333333334
        ],
        [
         10021,
         1.8008674928503354
        ],
        [
         11233,
         6.684090909090909
        ],
        [
         11231,
         5.860857142857143
        ],
        [
         7302,
         3.51
        ],
        [
         10453,
         5.3
        ],
        [
         10027,
         2.876992481203008
        ],
        [
         10028,
         2.1929569892473126
        ],
        [
         11416,
         11.068
        ],
        [
         11374,
         9.036153846153848
        ],
        [
         11370,
         8.931999999999999
        ],
        [
         11360,
         15.600000000000001
        ],
        [
         8876,
         0.0
        ],
        [
         11003,
         0.5
        ],
        [
         7002,
         1.595
        ],
        [
         7423,
         24.49
        ],
        [
         10023,
         2.1275789473684235
        ],
        [
         10031,
         5.429148936170211
        ],
        [
         11364,
         12.1
        ],
        [
         10271,
         3.7867010309278353
        ],
        [
         10022,
         1.958902691511388
        ],
        [
         11378,
         3.1971428571428575
        ],
        [
         11096,
         7.1
        ],
        [
         11229,
         14.344285714285714
        ],
        [
         10199,
         1.8887183544303785
        ],
        [
         11220,
         9.346250000000001
        ],
        [
         10006,
         3.7511278195488713
        ],
        [
         10037,
         3.626052631578947
        ],
        [
         11201,
         4.975652173913042
        ],
        [
         7310,
         8.095
        ],
        [
         10502,
         25.0
        ],
        [
         11694,
         24.7
        ],
        [
         7974,
         0.0
        ],
        [
         7304,
         13.37
        ],
        [
         11223,
         15.889999999999999
        ],
        [
         11411,
         20.83
        ],
        [
         11356,
         8.45
        ],
        [
         10034,
         8.176538461538462
        ],
        [
         10305,
         2.0
        ],
        [
         10019,
         2.236993987975951
        ],
        [
         10002,
         2.5152868852459016
        ],
        [
         10460,
         9.396
        ],
        [
         11206,
         4.106956521739131
        ],
        [
         11215,
         6.36421875
        ],
        [
         11418,
         6.58
        ],
        [
         10024,
         5.038750000000001
        ],
        [
         7114,
         16.710000000000004
        ],
        [
         7901,
         25.46
        ],
        [
         11430,
         13.552857142857144
        ],
        [
         10282,
         3.7647305389221564
        ],
        [
         11235,
         12.044
        ],
        [
         11432,
         9.2075
        ],
        [
         10020,
         2.457241379310342
        ],
        [
         11373,
         5.929999999999999
        ],
        [
         10167,
         2.071255230125523
        ],
        [
         11420,
         14.7
        ],
        [
         11435,
         8.048571428571428
        ],
        [
         11213,
         7.703333333333334
        ],
        [
         11218,
         9.06875
        ],
        [
         10601,
         24.5
        ],
        [
         11237,
         5.435714285714284
        ],
        [
         10007,
         3.0133628318584074
        ],
        [
         11417,
         9.502500000000001
        ],
        [
         11580,
         17.4
        ],
        [
         10469,
         12.2625
        ],
        [
         10710,
         19.02
        ],
        [
         10474,
         6.653333333333333
        ],
        [
         7086,
         0.0
        ],
        [
         11109,
         5.135434782608698
        ],
        [
         10038,
         3.2946774193548394
        ],
        [
         10550,
         15.55
        ],
        [
         11363,
         17.42
        ],
        [
         10471,
         9.6
        ],
        [
         10455,
         4.765
        ],
        [
         10065,
         1.864024604569419
        ],
        [
         11207,
         7.54
        ],
        [
         11351,
         6.15
        ],
        [
         10705,
         16.3
        ],
        [
         10012,
         2.218036410923277
        ],
        [
         11358,
         7.825
        ],
        [
         11209,
         12.523750000000001
        ],
        [
         10470,
         13.752499999999998
        ],
        [
         10115,
         3.129767441860465
        ],
        [
         10463,
         13.663999999999998
        ],
        [
         10459,
         6.3225
        ],
        [
         11433,
         4.4
        ],
        [
         11106,
         3.1637704918032785
        ],
        [
         11216,
         5.410833333333332
        ],
        [
         11101,
         2.4826923076923064
        ],
        [
         11225,
         6.683000000000002
        ],
        [
         11357,
         14.75
        ],
        [
         11371,
         10.22130630630631
        ],
        [
         11423,
         9.889999999999999
        ],
        [
         11434,
         11.266666666666666
        ],
        [
         11226,
         9.775294117647059
        ],
        [
         10606,
         26.3
        ],
        [
         10119,
         1.858128898128897
        ],
        [
         10451,
         4.973333333333334
        ],
        [
         11385,
         7.947999999999999
        ],
        [
         11042,
         21.3
        ],
        [
         10016,
         1.7722123893805315
        ],
        [
         10465,
         13.336666666666666
        ],
        [
         10473,
         7.1
        ],
        [
         10014,
         1.9844370860927143
        ],
        [
         10044,
         2.656340425531917
        ],
        [
         11222,
         5.182087912087913
        ],
        [
         11355,
         10.098571428571429
        ],
        [
         10162,
         2.1668618266978923
        ],
        [
         10301,
         17.21
        ],
        [
         11354,
         11.559999999999999
        ],
        [
         10466,
         14.3
        ],
        [
         10017,
         2.19663421418637
        ],
        [
         11211,
         5.173283582089553
        ],
        [
         10032,
         7.183466666666665
        ],
        [
         11212,
         6.078
        ],
        [
         7758,
         2.92
        ],
        [
         10013,
         2.8272631578947363
        ],
        [
         11228,
         12.0975
        ],
        [
         11366,
         10.561666666666667
        ],
        [
         11598,
         7.43
        ],
        [
         10456,
         3.6675000000000004
        ],
        [
         10452,
         7.174285714285715
        ],
        [
         11001,
         10.030000000000001
        ],
        [
         11365,
         14.16
        ],
        [
         10458,
         12.265
        ],
        [
         10112,
         1.668913043478261
        ],
        [
         10103,
         2.332172995780591
        ],
        [
         11436,
         9.104375000000001
        ],
        [
         11208,
         17.5
        ],
        [
         11234,
         16.27
        ],
        [
         10472,
         9.588333333333331
        ],
        [
         7024,
         8.49
        ],
        [
         11105,
         5.974102564102562
        ],
        [
         10703,
         20.9
        ],
        [
         11419,
         5.09
        ],
        [
         10069,
         2.3524999999999996
        ],
        [
         10011,
         1.8878191489361706
        ],
        [
         11421,
         12.7
        ],
        [
         7008,
         20.85
        ],
        [
         11050,
         25.55
        ],
        [
         10152,
         1.9726363636363637
        ],
        [
         10111,
         2.0211309523809495
        ],
        [
         10461,
         13.8
        ],
        [
         7737,
         0.8
        ],
        [
         10003,
         1.9683763440860227
        ],
        [
         7030,
         9.315
        ],
        [
         11413,
         5.7
        ],
        [
         10029,
         2.460864197530866
        ],
        [
         11214,
         14.837500000000002
        ],
        [
         10280,
         3.63065934065934
        ],
        [
         10005,
         4.005242718446602
        ],
        [
         10110,
         1.9196899224806194
        ],
        [
         11205,
         4.4792957746478885
        ],
        [
         10026,
         3.657749999999999
        ],
        [
         11103,
         4.728227848101266
        ],
        [
         10475,
         15.516666666666666
        ],
        [
         11238,
         5.928048780487804
        ],
        [
         10306,
         18.47
        ],
        [
         10278,
         2.3829375
        ],
        [
         11575,
         24.4
        ],
        [
         11219,
         10.342
        ],
        [
         10025,
         2.756462585034013
        ],
        [
         10454,
         3.232307692307692
        ],
        [
         10153,
         2.0469132653061237
        ],
        [
         11375,
         8.955454545454545
        ],
        [
         10464,
         17.84
        ],
        [
         11369,
         5.775555555555556
        ],
        [
         10171,
         2.4260093896713615
        ],
        [
         11377,
         4.796744186046513
        ],
        [
         11427,
         13.175
        ],
        [
         10009,
         2.082828685258967
        ],
        [
         10803,
         16.365
        ],
        [
         10035,
         3.429746835443038
        ],
        [
         10154,
         2.228971962616823
        ],
        [
         10030,
         4.567692307692307
        ],
        [
         10467,
         7.9750000000000005
        ],
        [
         11379,
         7.144999999999999
        ],
        [
         11691,
         9.88
        ],
        [
         10468,
         12.721428571428572
        ],
        [
         11104,
         5.008863636363636
        ],
        [
         11221,
         5.366969696969697
        ],
        [
         11422,
         15.81522012578618
        ],
        [
         11424,
         10.131428571428572
        ],
        [
         11010,
         15.99
        ],
        [
         7311,
         4.466666666666667
        ],
        [
         11210,
         11.474285714285715
        ],
        [
         10457,
         11.22
        ],
        [
         11372,
         5.364285714285714
        ],
        [
         11204,
         12.502
        ],
        [
         11415,
         6.5649999999999995
        ],
        [
         11102,
         4.664222222222222
        ],
        [
         10039,
         5.924594594594597
        ],
        [
         11230,
         9.747777777777777
        ],
        [
         11367,
         7.4366666666666665
        ],
        [
         10462,
         10.263333333333334
        ],
        [
         7087,
         4.9
        ],
        [
         10018,
         2.237234299516909
        ],
        [
         11217,
         4.579484536082474
        ]
       ],
       "datasetInfos": [],
       "dbfsResultPath": null,
       "isJsonSchema": true,
       "metadata": {},
       "overflow": false,
       "plotOptions": {
        "customPlotOptions": {},
        "displayType": "table",
        "pivotAggregation": null,
        "pivotColumns": null,
        "xColumns": null,
        "yColumns": null
       },
       "removedWidgets": [],
       "schema": [
        {
         "metadata": "{}",
         "name": "dropoff_zip",
         "type": "\"integer\""
        },
        {
         "metadata": "{}",
         "name": "avg_distance",
         "type": "\"double\""
        }
       ],
       "type": "table"
      }
     },
     "output_type": "display_data"
    },
    {
     "output_type": "display_data",
     "data": {
      "text/plain": [
       "Databricks visualization. Run in Databricks to view."
      ]
     },
     "metadata": {
      "application/vnd.databricks.v1.subcommand+json": {
       "baseErrorDetails": null,
       "bindings": {},
       "collapsed": false,
       "command": "%python\n__backend_agg_display_orig = display\n__backend_agg_dfs = []\ndef __backend_agg_display_new(df):\n    __backend_agg_df_modules = [\"pandas.core.frame\", \"databricks.koalas.frame\", \"pyspark.sql.dataframe\", \"pyspark.pandas.frame\", \"pyspark.sql.connect.dataframe\"]\n    if (type(df).__module__ in __backend_agg_df_modules and type(df).__name__ == 'DataFrame') or isinstance(df, list):\n        __backend_agg_dfs.append(df)\n\ndisplay = __backend_agg_display_new\n\ndef __backend_agg_user_code_fn():\n    import base64\n    exec(base64.standard_b64decode(\"ZnJvbSBweXNwYXJrLnNxbC5mdW5jdGlvbnMgaW1wb3J0IGF2ZwoKdHJpcHNfZGYuZ3JvdXBCeSgiZHJvcG9mZl96aXAiKS5hZ2coYXZnKCJ0cmlwX2Rpc3RhbmNlIikuYWxpYXMoImF2Z19kaXN0YW5jZSIpKS5kaXNwbGF5KCk=\").decode())\n\ntry:\n    # run user code\n    __backend_agg_user_code_fn()\n\n    #reset display function\n    display = __backend_agg_display_orig\n\n    if len(__backend_agg_dfs) > 0:\n        # create a temp view\n        if type(__backend_agg_dfs[0]).__module__ == \"databricks.koalas.frame\":\n            # koalas dataframe\n            __backend_agg_dfs[0].to_spark().createOrReplaceTempView(\"DatabricksViewa9d9d95\")\n        elif type(__backend_agg_dfs[0]).__module__ == \"pandas.core.frame\" or isinstance(__backend_agg_dfs[0], list):\n            # pandas dataframe\n            spark.createDataFrame(__backend_agg_dfs[0]).createOrReplaceTempView(\"DatabricksViewa9d9d95\")\n        else:\n            __backend_agg_dfs[0].createOrReplaceTempView(\"DatabricksViewa9d9d95\")\n        #run backend agg\n        display(spark.sql(\"\"\"WITH q AS (select * from DatabricksViewa9d9d95) SELECT `dropoff_zip`,SUM(`avg_distance`) `column_c5f41aa660` FROM q GROUP BY `dropoff_zip`\"\"\"))\n    else:\n        displayHTML(\"dataframe no longer exists. If you're using dataframe.display(), use display(dataframe) instead.\")\n\n\nfinally:\n    spark.sql(\"drop view if exists DatabricksViewa9d9d95\")\n    display = __backend_agg_display_orig\n    del __backend_agg_display_new\n    del __backend_agg_display_orig\n    del __backend_agg_dfs\n    del __backend_agg_user_code_fn\n\n",
       "commandTitle": "Visualization 1",
       "commandType": "auto",
       "commandVersion": 0,
       "commentThread": [],
       "commentsVisible": false,
       "contentSha256Hex": null,
       "customPlotOptions": {
        "redashChart": [
         {
          "key": "type",
          "value": "CHART"
         },
         {
          "key": "options",
          "value": {
           "alignYAxesAtZero": true,
           "coefficient": 1,
           "columnConfigurationMap": {
            "x": {
             "column": "dropoff_zip",
             "id": "column_c5f41aa659"
            },
            "y": [
             {
              "column": "avg_distance",
              "id": "column_c5f41aa660",
              "transform": "SUM"
             }
            ]
           },
           "dateTimeFormat": "DD/MM/YYYY HH:mm",
           "direction": {
            "type": "counterclockwise"
           },
           "error_y": {
            "type": "data",
            "visible": true
           },
           "globalSeriesType": "area",
           "isAggregationOn": true,
           "legend": {
            "traceorder": "normal"
           },
           "missingValuesAsZero": true,
           "numberFormat": "0,0.[00000]",
           "percentFormat": "0[.]00%",
           "series": {
            "error_y": {
             "type": "data",
             "visible": true
            },
            "stacking": null
           },
           "seriesOptions": {
            "column_c5f41aa660": {
             "name": "avg_distance",
             "type": "area",
             "yAxis": 0
            }
           },
           "showDataLabels": false,
           "sizemode": "diameter",
           "sortX": true,
           "sortY": true,
           "swappedAxes": false,
           "textFormat": "",
           "useAggregationsUi": true,
           "valuesOptions": {},
           "version": 2,
           "xAxis": {
            "labels": {
             "enabled": true
            },
            "type": "-"
           },
           "yAxis": [
            {
             "type": "-"
            },
            {
             "opposite": true,
             "type": "-"
            }
           ]
          }
         }
        ]
       },
       "datasetPreviewNameToCmdIdMap": {},
       "diffDeletes": [],
       "diffInserts": [],
       "displayType": "redashChart",
       "error": null,
       "errorDetails": null,
       "errorSummary": null,
       "errorTraceType": null,
       "finishTime": 0,
       "globalVars": {},
       "guid": "",
       "height": "auto",
       "hideCommandCode": false,
       "hideCommandResult": false,
       "iPythonMetadata": null,
       "inputWidgets": {},
       "isLockedInExamMode": false,
       "latestUser": "a user",
       "latestUserId": null,
       "listResultMetadata": null,
       "metadata": {},
       "nuid": "b5970c15-7475-4756-b7b1-1e3bb65fe2d9",
       "origId": 0,
       "parentHierarchy": [],
       "pivotAggregation": null,
       "pivotColumns": null,
       "position": 9.0,
       "resultDbfsErrorMessage": null,
       "resultDbfsStatus": "INLINED_IN_TREE",
       "results": null,
       "showCommandTitle": false,
       "startTime": 0,
       "state": "input",
       "streamStates": {},
       "subcommandOptions": {
        "queryPlan": {
         "groups": [
          {
           "column": "dropoff_zip",
           "type": "column"
          }
         ],
         "selects": [
          {
           "column": "dropoff_zip",
           "type": "column"
          },
          {
           "alias": "column_c5f41aa660",
           "args": [
            {
             "column": "avg_distance",
             "type": "column"
            }
           ],
           "function": "SUM",
           "type": "function"
          }
         ]
        }
       },
       "submitTime": 0,
       "subtype": "tableResultSubCmd.visualization",
       "tableResultIndex": 0,
       "tableResultSettingsMap": {},
       "useConsistentColors": false,
       "version": "CommandV1",
       "width": "auto",
       "workflows": [],
       "xColumns": null,
       "yColumns": null
      }
     },
     "output_type": "display_data"
    }
   ],
   "source": [
    "from pyspark.sql.functions import avg\n",
    "\n",
    "trips_df.groupBy(\"dropoff_zip\").agg(avg(\"trip_distance\").alias(\"avg_distance\")).display()"
   ]
  }
 ],
 "metadata": {
  "application/vnd.databricks.v1+notebook": {
   "computePreferences": null,
   "dashboards": [],
   "environmentMetadata": {
    "base_environment": "",
    "environment_version": "2"
   },
   "inputWidgetPreferences": null,
   "language": "python",
   "notebookMetadata": {
    "mostRecentlyExecutedCommandWithImplicitDF": {
     "commandId": 8822404610473864,
     "dataframes": [
      "_sqldf"
     ]
    },
    "pythonIndentUnit": 4
   },
   "notebookName": "EDA visualization 2025-08-07 09:33:59",
   "widgets": {}
  },
  "language_info": {
   "name": "python"
  }
 },
 "nbformat": 4,
 "nbformat_minor": 0
}